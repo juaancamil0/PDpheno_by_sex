{
 "cells": [
  {
   "cell_type": "markdown",
   "metadata": {},
   "source": [
    "# Male Female Analysis"
   ]
  },
  {
   "cell_type": "code",
   "execution_count": 23,
   "metadata": {},
   "outputs": [],
   "source": [
    "library(tidyverse)\n",
    "library(data.table)\n",
    "library(zoo)\n",
    "library(tableone)\n",
    "library(survival)\n",
    "library(lmerTest)\n",
    "library(metafor)\n",
    "library(optimx)\n",
    "library(broom)"
   ]
  },
  {
   "cell_type": "code",
   "execution_count": 51,
   "metadata": {},
   "outputs": [
    {
     "data": {
      "text/plain": [
       "                  \n",
       "STUDY_NAME         FALSE TRUE\n",
       "  DATATOP              4  796\n",
       "  DIGPD               76  350\n",
       "  HBS                 98  482\n",
       "  NET_PD_LS1          36 1705\n",
       "  PARKFIT            120  466\n",
       "  PARKWEST             6  181\n",
       "  PDBP               446  486\n",
       "  PICNICS             11  122\n",
       "  PPMI                52  408\n",
       "  PROPARK              6  327\n",
       "  PreCEPT_PostCEPT     0  390\n",
       "  UDALL_PENN          19  233"
      ]
     },
     "metadata": {},
     "output_type": "display_data"
    }
   ],
   "source": [
    "VARS = c(\"STUDY_NAME\", \"ID\", \"TSTART\", \"DOPA\", \"AGONIST\",'Race', 'LED', 'LDD', 'DAD', 'WGTBL', 'HTBL', 'BMI',\n",
    "         \"Hyposmia\", \"Cognitive_Impairment\",\"Wearing_Off\", \"Dyskinesia\", \"Depression\", \n",
    "         \"RLS\",\"Constipation\", \"pRBD\", \"Daytime_Sleepiness\", \"Insomnia\", \"HY\", \n",
    "         \"UPDRS1\", \"UPDRS2\",\"UPDRS3\", \"UPDRS4\", \"oldUPDRS\",\"MDS_UPDRS\", \"MMSE\", \"MoCA\", \"SEADL\",'UPSIT', 'SEADL70',\n",
    "         \"AGEatBL\", \"FEMALE\", \"YEARSEDUC\", \"BLDfDIAG\",\"AAO\",\"AD\", 'FUY')\n",
    "VARSb = c('Female', \"Hyposmia\",\"Cognitive_Impairment\", \"Wearing_Off\", \n",
    "          \"Dyskinesia\", \"Depression\", \"RLS\",\"Constipation\", \"pRBD\", \n",
    "          \"Daytime_Sleepiness\", \"Insomnia\", \"SEADL70\")\n",
    "VARSu = c(\"UPDRS_scaled\", \"UPDRS1_scaled\", \"UPDRS2_scaled\", \"UPDRS3_scaled\", \"UPDRS4_scaled\")\n",
    "VARSc = c(VARSu, 'HY', \"MMSE\", \"MoCA\", \"SEADL\")\n",
    "DENOVOs=c('PPMI', 'PreCEPT_PostCEPT', 'PARKWEST', 'DATATOP')\n",
    "STUDYs = c(DENOVOs, 'PICNICS', 'NET_PD_LS1', 'DIGPD',  \"PDBP\", \"HBS\", \"PARKFIT\", \"PROPARK\", \"UDALL_PENN\")\n",
    "\n",
    "d = lapply(STUDYs, function(x){fread(sprintf('PDcohorts/%s/standardized.csv', x)) %>% mutate(ID=as.character(ID))}) %>% \n",
    "  bind_rows() %>% \n",
    "  mutate(STUDY_NAME = ifelse(grepl('PDBP_', STUDY_NAME), 'PDBP', STUDY_NAME)) %>%\n",
    "  mutate(Age = AGEatBL + TSTART/365.25) %>%\n",
    "  mutate(DiseaseDuration = BLDfDIAG + TSTART/365.25)\n",
    "\n",
    "# recode and rename\n",
    "d = d %>% \n",
    "    # set BMI but BMI >50 are highly likely to be scaling mistakes\n",
    "    mutate(BMI = WGTBL/HTBL/HTBL*100*100) %>%\n",
    "    mutate(BMI = ifelse(BMI>55, NA, BMI),\n",
    "           WGTBL = ifelse(BMI>55, NA, WGTBL),\n",
    "           HTBL = ifelse(BMI>55, NA, HTBL))%>%\n",
    "    # New hyposmia threshold using UPSIT norm\n",
    "    mutate(Hyposmia = case_when(\n",
    "        (FEMALE==1) & (Age<25) & (UPSIT<=35) ~ 1,\n",
    "        (FEMALE==1) & (Age<50) & (UPSIT<=34) ~ 1,\n",
    "        (FEMALE==1) & (Age<60) & (UPSIT<=32) ~ 1,\n",
    "        (FEMALE==1) & (Age<65) & (UPSIT<=31) ~ 1,\n",
    "        (FEMALE==1) & (Age<70) & (UPSIT<=26) ~ 1,\n",
    "        (FEMALE==1) & (Age<75) & (UPSIT<=22) ~ 1,\n",
    "        (FEMALE==1) & (Age<80) & (UPSIT<=17) ~ 1,\n",
    "        (FEMALE==1) & (Age>=80) & (UPSIT<=15) ~ 1,\n",
    "        (FEMALE==0) & (Age<40) & (UPSIT<=33) ~ 1,\n",
    "        (FEMALE==0) & (Age<50) & (UPSIT<=32) ~ 1,\n",
    "        (FEMALE==0) & (Age<55) & (UPSIT<=29) ~ 1,\n",
    "        (FEMALE==0) & (Age<65) & (UPSIT<=26) ~ 1,\n",
    "        (FEMALE==0) & (Age<70) & (UPSIT<=22) ~ 1,\n",
    "        (FEMALE==0) & (Age<75) & (UPSIT<=19) ~ 1,\n",
    "        (FEMALE==0) & (Age<80) & (UPSIT<=18) ~ 1,\n",
    "        (FEMALE==0) & (Age<85) & (UPSIT<=12) ~ 1,\n",
    "        (FEMALE==0) & (Age>=85) & (UPSIT<=10) ~ 1,\n",
    "        !is.na(UPSIT) ~ 0)) %>%\n",
    "#     mutate(Anosmia = (UPSIT<18)*1) %>% \n",
    "    rename(Wearing_Off = MOTORFLUX,\n",
    "          Cognitive_Impairment = MCI,\n",
    "          Dementia=DEMENTIA,\n",
    "          MoCA = MOCA,\n",
    "          Dyskinesia = DYSKINESIAS,\n",
    "          Depression = DEPR,\n",
    "          RLS = RL, \n",
    "          Constipation = CONST,\n",
    "          pRBD = RBD,\n",
    "          Daytime_Sleepiness = SLEEP,\n",
    "          Insomnia = INS)\n",
    "\n",
    "db = d %>% filter(TSTART==0) %>% filter(RECRUIT=='PD', DX=='PD') # Only PDs\n",
    "db %>% with(table(STUDY_NAME, FUY>0))\n",
    "db = db %>% filter(FUY>0)  # Filter out FUY==0\n",
    "\n",
    "# Keep the FU>0, and Standardization of UPDRS\n",
    "d = semi_join(d, db, by = c('STUDY_NAME', 'ID')) # Only keep participants in db\n",
    "t = db %>% group_by(STUDY_NAME) %>% \n",
    "  summarise_at(vars('UPDRS1', 'UPDRS2', 'UPDRS3', 'oldUPDRS', 'MDS_UPDRS'),\n",
    "               list(~mean(., na.rm = T), ~sd(., na.rm=T))) %>% data.frame\n",
    "d = left_join(d, t, by = 'STUDY_NAME') %>% \n",
    "  mutate(UPDRS1_scaled = ifelse(is.na(UPDRS1_sd), NA, (UPDRS1 - UPDRS1_mean)/UPDRS1_sd),\n",
    "         UPDRS2_scaled = ifelse(is.na(UPDRS2_sd), NA, (UPDRS2 - UPDRS2_mean)/UPDRS2_sd),\n",
    "         UPDRS3_scaled = ifelse(is.na(UPDRS3_sd), NA, (UPDRS3 - UPDRS3_mean)/UPDRS3_sd),\n",
    "         UPDRS4_scaled = scale(UPDRS4),\n",
    "         UPDRS_scaled = case_when(\n",
    "           !is.na(MDS_UPDRS_sd) ~ (MDS_UPDRS - MDS_UPDRS_mean)/MDS_UPDRS_sd,\n",
    "           !is.na(oldUPDRS_sd) ~ (oldUPDRS - oldUPDRS_mean)/oldUPDRS_sd)) %>% \n",
    "  select(all_of(unique(c(VARS, VARSu, 'Age', 'DiseaseDuration'))))\n",
    "\n",
    "# Reset the data at baseline\n",
    "db = d %>% filter(TSTART==0)"
   ]
  },
  {
   "cell_type": "markdown",
   "metadata": {},
   "source": [
    "Only include the people with at least one follow-ups. "
   ]
  },
  {
   "cell_type": "code",
   "execution_count": 52,
   "metadata": {},
   "outputs": [
    {
     "data": {
      "text/plain": [
       "  STUDY_NAME             ID                TSTART            DOPA       \n",
       " Length:37852       Length:37852       Min.   :   0.0   Min.   :0.0000  \n",
       " Class :character   Class :character   1st Qu.: 101.0   1st Qu.:0.0000  \n",
       " Mode  :character   Mode  :character   Median : 414.5   Median :1.0000  \n",
       "                                       Mean   : 663.5   Mean   :0.5287  \n",
       "                                       3rd Qu.:1080.0   3rd Qu.:1.0000  \n",
       "                                       Max.   :3318.0   Max.   :1.0000  \n",
       "                                                        NA's   :1616    \n",
       "    AGONIST           Race                LED              LDD        \n",
       " Min.   :0.0000   Length:37852       Min.   :   0.0   Min.   :   0.0  \n",
       " 1st Qu.:0.0000   Class :character   1st Qu.: 300.0   1st Qu.:   0.0  \n",
       " Median :0.0000   Mode  :character   Median : 475.0   Median : 300.0  \n",
       " Mean   :0.4411                      Mean   : 559.1   Mean   : 370.0  \n",
       " 3rd Qu.:1.0000                      3rd Qu.: 750.0   3rd Qu.: 567.4  \n",
       " Max.   :1.0000                      Max.   :5200.0   Max.   :4150.0  \n",
       " NA's   :3122                        NA's   :15041    NA's   :18517   \n",
       "      DAD             WGTBL             HTBL            BMI       \n",
       " Min.   :   0.0   Min.   : 35.20   Min.   :132.0   Min.   :15.21  \n",
       " 1st Qu.:   0.0   1st Qu.: 69.60   1st Qu.:165.0   1st Qu.:24.16  \n",
       " Median :  80.0   Median : 81.00   Median :173.0   Median :26.82  \n",
       " Mean   : 131.7   Mean   : 81.84   Mean   :172.3   Mean   :27.44  \n",
       " 3rd Qu.: 225.0   3rd Qu.: 92.50   3rd Qu.:180.0   3rd Qu.:29.98  \n",
       " Max.   :3750.0   Max.   :195.40   Max.   :201.0   Max.   :54.13  \n",
       " NA's   :26622    NA's   :19464    NA's   :19464   NA's   :19464  \n",
       "    Hyposmia     Cognitive_Impairment  Wearing_Off      Dyskinesia   \n",
       " Min.   :0.00    Min.   :0.00         Min.   :0.000   Min.   :0.000  \n",
       " 1st Qu.:0.00    1st Qu.:0.00         1st Qu.:0.000   1st Qu.:0.000  \n",
       " Median :1.00    Median :0.00         Median :0.000   Median :0.000  \n",
       " Mean   :0.74    Mean   :0.15         Mean   :0.356   Mean   :0.153  \n",
       " 3rd Qu.:1.00    3rd Qu.:0.00         3rd Qu.:1.000   3rd Qu.:0.000  \n",
       " Max.   :1.00    Max.   :1.00         Max.   :1.000   Max.   :1.000  \n",
       " NA's   :33682   NA's   :20803        NA's   :9912    NA's   :4597   \n",
       "   Depression         RLS         Constipation        pRBD      \n",
       " Min.   :0.000   Min.   :0.000   Min.   :0.000   Min.   :0.000  \n",
       " 1st Qu.:0.000   1st Qu.:0.000   1st Qu.:0.000   1st Qu.:0.000  \n",
       " Median :0.000   Median :0.000   Median :0.000   Median :0.000  \n",
       " Mean   :0.253   Mean   :0.192   Mean   :0.396   Mean   :0.377  \n",
       " 3rd Qu.:1.000   3rd Qu.:0.000   3rd Qu.:1.000   3rd Qu.:1.000  \n",
       " Max.   :1.000   Max.   :1.000   Max.   :1.000   Max.   :1.000  \n",
       " NA's   :10750   NA's   :27329   NA's   :18325   NA's   :30000  \n",
       " Daytime_Sleepiness    Insomnia           HY            UPDRS1      \n",
       " Min.   :0.000      Min.   :0.000   Min.   :0.000   Min.   : 0.000  \n",
       " 1st Qu.:0.000      1st Qu.:0.000   1st Qu.:2.000   1st Qu.: 1.000  \n",
       " Median :0.000      Median :0.000   Median :2.000   Median : 2.000  \n",
       " Mean   :0.273      Mean   :0.366   Mean   :2.283   Mean   : 3.739  \n",
       " 3rd Qu.:1.000      3rd Qu.:1.000   3rd Qu.:3.000   3rd Qu.: 5.000  \n",
       " Max.   :1.000      Max.   :1.000   Max.   :5.000   Max.   :39.000  \n",
       " NA's   :19627      NA's   :17030   NA's   :2311    NA's   :9492    \n",
       "     UPDRS2           UPDRS3           UPDRS4          oldUPDRS     \n",
       " Min.   : 0.000   Min.   :  0.00   Min.   : 0.000   Min.   :  0.00  \n",
       " 1st Qu.: 5.000   1st Qu.: 13.00   1st Qu.: 0.000   1st Qu.: 18.50  \n",
       " Median : 8.000   Median : 20.00   Median : 1.000   Median : 28.00  \n",
       " Mean   : 8.653   Mean   : 21.29   Mean   : 1.861   Mean   : 29.41  \n",
       " 3rd Qu.:12.000   3rd Qu.: 28.00   3rd Qu.: 3.000   3rd Qu.: 39.00  \n",
       " Max.   :51.000   Max.   :104.00   Max.   :35.000   Max.   :133.00  \n",
       " NA's   :10926    NA's   :10933    NA's   :15568    NA's   :12459   \n",
       "   MDS_UPDRS           MMSE            MoCA           SEADL       \n",
       " Min.   :  0.00   Min.   : 6.00   Min.   : 0.00   Min.   :  0.00  \n",
       " 1st Qu.: 28.00   1st Qu.:28.00   1st Qu.:24.00   1st Qu.: 85.00  \n",
       " Median : 39.00   Median :29.00   Median :27.00   Median : 90.00  \n",
       " Mean   : 42.74   Mean   :28.24   Mean   :25.95   Mean   : 88.05  \n",
       " 3rd Qu.: 54.00   3rd Qu.:30.00   3rd Qu.:29.00   3rd Qu.: 95.00  \n",
       " Max.   :174.00   Max.   :30.00   Max.   :30.00   Max.   :100.00  \n",
       " NA's   :28428    NA's   :26214   NA's   :31328   NA's   :9714    \n",
       "     UPSIT          SEADL70         AGEatBL          FEMALE      \n",
       " Min.   : 0.00   Min.   :0.000   Min.   :24.00   Min.   :0.0000  \n",
       " 1st Qu.:13.00   1st Qu.:0.000   1st Qu.:55.75   1st Qu.:0.0000  \n",
       " Median :18.00   Median :0.000   Median :62.93   Median :0.0000  \n",
       " Mean   :19.47   Mean   :0.074   Mean   :62.11   Mean   :0.3492  \n",
       " 3rd Qu.:25.00   3rd Qu.:0.000   3rd Qu.:69.00   3rd Qu.:1.0000  \n",
       " Max.   :40.00   Max.   :1.000   Max.   :96.00   Max.   :1.0000  \n",
       " NA's   :33682   NA's   :9209    NA's   :52      NA's   :6       \n",
       "   YEARSEDUC        BLDfDIAG            AAO              AD       \n",
       " Min.   : 1.00   Min.   :-1.0000   Min.   :23.50   Min.   :40.80  \n",
       " 1st Qu.:12.00   1st Qu.: 0.3778   1st Qu.:53.34   1st Qu.:71.00  \n",
       " Median :16.00   Median : 1.0000   Median :60.79   Median :76.00  \n",
       " Mean   :15.03   Mean   : 2.0667   Mean   :60.02   Mean   :75.38  \n",
       " 3rd Qu.:18.00   3rd Qu.: 2.2000   3rd Qu.:67.00   3rd Qu.:81.00  \n",
       " Max.   :26.00   Max.   :39.0000   Max.   :96.00   Max.   :98.00  \n",
       " NA's   :986     NA's   :354       NA's   :303     NA's   :35009  \n",
       "      FUY            UPDRS_scaled     UPDRS1_scaled    UPDRS2_scaled   \n",
       " Min.   :0.002738   Min.   :-2.4844   Min.   :-1.690   Min.   :-1.910  \n",
       " 1st Qu.:2.494182   1st Qu.:-0.6428   1st Qu.:-0.710   1st Qu.:-0.574  \n",
       " Median :4.908966   Median : 0.1146   Median : 0.040   Median : 0.132  \n",
       " Mean   :4.433055   Mean   : 0.2383   Mean   : 0.263   Mean   : 0.347  \n",
       " 3rd Qu.:6.050650   3rd Qu.: 0.9880   3rd Qu.: 0.909   3rd Qu.: 0.996  \n",
       " Max.   :9.084189   Max.   :10.6234   Max.   : 9.001   Max.   :11.537  \n",
       "                    NA's   :3035      NA's   :9492     NA's   :10926   \n",
       " UPDRS3_scaled    UPDRS4_scaled.V1      Age        DiseaseDuration \n",
       " Min.   :-2.390   Min.   :-0.755   Min.   :24.00   Min.   :-1.000  \n",
       " 1st Qu.:-0.685   1st Qu.:-0.755   1st Qu.:57.31   1st Qu.: 1.497  \n",
       " Median : 0.037   Median :-0.349   Median :64.48   Median : 3.000  \n",
       " Mean   : 0.223   Mean   : 0.000   Mean   :63.92   Mean   : 3.892  \n",
       " 3rd Qu.: 0.912   3rd Qu.: 0.462   3rd Qu.:71.00   3rd Qu.: 5.245  \n",
       " Max.   : 7.736   Max.   :13.440   Max.   :97.81   Max.   :40.782  \n",
       " NA's   :10933    NA's   :15568    NA's   :52      NA's   :354     "
      ]
     },
     "metadata": {},
     "output_type": "display_data"
    }
   ],
   "source": [
    "d%>% summary"
   ]
  },
  {
   "cell_type": "code",
   "execution_count": 53,
   "metadata": {},
   "outputs": [],
   "source": [
    "fwrite(d, 'analysisSet.csv')"
   ]
  },
  {
   "cell_type": "markdown",
   "metadata": {},
   "source": [
    "# Cohort level analysis"
   ]
  },
  {
   "cell_type": "code",
   "execution_count": 54,
   "metadata": {},
   "outputs": [
    {
     "name": "stdout",
     "output_type": "stream",
     "text": [
      "\n",
      " Hyposmia done for PPMI , PDBP , UDALL_PENN , \n",
      " Cognitive_Impairment done for  :SKIP- PPMI :SKIP- PreCEPT_PostCEPTPARKWEST , DATATOP ,  :SKIP- PICNICSNET_PD_LS1 , PDBP , HBS , PARKFIT , PROPARK ,  :SKIP- UDALL_PENN\n",
      " Wearing_Off done for  :SKIP- PPMI :SKIP- PARKWEST :SKIP- PICNICSNET_PD_LS1 , DIGPD , PDBP , HBS , PROPARK , UDALL_PENN , \n",
      " Dyskinesia done for  :SKIP- PPMI :SKIP- PARKWEST :SKIP- DATATOP :SKIP- PICNICSNET_PD_LS1 ,  :SKIP- DIGPDPDBP , HBS , PROPARK , UDALL_PENN , \n",
      " Depression done for PPMI , PreCEPT_PostCEPT , PARKWEST ,  :SKIP- DATATOPPICNICS , NET_PD_LS1 , DIGPD , PDBP , HBS , PROPARK , UDALL_PENN , \n",
      " RLS done for PPMI , PARKWEST , DIGPD , PDBP , HBS , \n",
      " Constipation done for PPMI , PARKWEST ,  :SKIP- DATATOPPICNICS , DIGPD , PDBP , PROPARK , \n",
      " pRBD done for PPMI ,  :SKIP- PARKWESTPDBP , \n",
      " Daytime_Sleepiness done for PPMI , PARKWEST ,  :SKIP- DATATOP :SKIP- PICNICSDIGPD , PDBP , PROPARK , \n",
      " Insomnia done for PPMI , PARKWEST , DATATOP , PICNICS , DIGPD , PDBP , HBS , PROPARK , \n",
      " SEADL70 done for  :SKIP- PPMI :SKIP- PreCEPT_PostCEPT :SKIP- PARKWEST :SKIP- DATATOP :SKIP- NET_PD_LS1 :SKIP- DIGPDPDBP , UDALL_PENN , \n",
      " UPDRS_scaled done for PPMI , PreCEPT_PostCEPT , PARKWEST , DATATOP , PICNICS , NET_PD_LS1 , DIGPD , PDBP , HBS , PARKFIT , UDALL_PENN , \n",
      " UPDRS1_scaled done for PPMI , PreCEPT_PostCEPT , PARKWEST , NET_PD_LS1 , DIGPD , PDBP , HBS , UDALL_PENN , \n",
      " UPDRS2_scaled done for PPMI , PreCEPT_PostCEPT , PARKWEST , NET_PD_LS1 , DIGPD , PDBP , HBS , UDALL_PENN , \n",
      " UPDRS3_scaled done for PPMI , PreCEPT_PostCEPT , PARKWEST , NET_PD_LS1 , DIGPD , PDBP , HBS , UDALL_PENN , \n",
      " UPDRS4_scaled done for PPMI , PARKWEST , NET_PD_LS1 , DIGPD , PDBP , HBS , UDALL_PENN , \n",
      " HY done for PPMI , PreCEPT_PostCEPT , PARKWEST , DATATOP , PICNICS , NET_PD_LS1 , DIGPD , PDBP , HBS , PARKFIT , PROPARK , UDALL_PENN , \n",
      " MMSE done for PreCEPT_PostCEPT , PARKWEST , DATATOP , PICNICS , DIGPD , HBS , PARKFIT , PROPARK , UDALL_PENN , \n",
      " MoCA done for PPMI , PDBP , UDALL_PENN , \n",
      " SEADL done for PPMI , PreCEPT_PostCEPT , PARKWEST , DATATOP , NET_PD_LS1 , DIGPD , PDBP , UDALL_PENN , "
     ]
    }
   ],
   "source": [
    "baselineAnalysis = function(df, outcome, covs){\n",
    "  cat('\\n', outcome, 'done for ')\n",
    "  df[,'Y'] = df[outcome]\n",
    "  DF = data.frame(STUDY = STUDYs, OUTCOME = outcome, \n",
    "                  BETA=NA, SE=NA, Z=NA, P=NA, N=NA, Ncase=NA, \n",
    "                  COVS=NA)\n",
    "  for (STUDY in STUDYs){\n",
    "    dfs = df %>% filter(STUDY_NAME==STUDY) %>% filter(!is.na(Y))\n",
    "    if(nrow(dfs)==0){next} # No outcome\n",
    "    covsNA = colSums(is.na(dfs[covs]), na.rm = T)\n",
    "    covsNAratio = covsNA/nrow(dfs)\n",
    "    covsToUse = covs[covsNAratio<0.1]\n",
    "    dfs = dfs %>% select(all_of(c('ID', 'Y', covsToUse))) %>% \n",
    "      filter(complete.cases(.))\n",
    "    N = nrow(dfs)\n",
    "    # Analysis\n",
    "    mod = sprintf('Y ~ %s + I(DiseaseDuration^2) + I(Age^2)', paste(covsToUse, collapse = ' + '))\n",
    "    if(length(setdiff(dfs$Y, c(0, 1)))==0){ # binomial outcome\n",
    "      E = sum(dfs$Y) # Number of Cases\n",
    "      if(E< 25){\n",
    "          cat(' :SKIP-', STUDY)\n",
    "          next} # Too few event\n",
    "      res = glm(mod, data=dfs, family=binomial())\n",
    "    }else{ # \n",
    "      E = NA # No cases\n",
    "      res = glm(mod, data=dfs)\n",
    "    }\n",
    "    resM = summary(res) %>% coef %>% as.matrix\n",
    "    DF[DF$STUDY==STUDY, 3:6] = resM['FEMALE',]\n",
    "    DF[DF$STUDY==STUDY, 7:8] = c(N, E)\n",
    "    DF[DF$STUDY==STUDY, 9] = mod\n",
    "    cat(STUDY, ', ')\n",
    "  }\n",
    "  return(DF)\n",
    "}\n",
    "COVs = c('FEMALE', 'Age', 'DiseaseDuration', 'DOPA', 'AGONIST')\n",
    "result = lapply(c(VARSb[-1], VARSc), function(x){baselineAnalysis(db, x, COVs)})\n",
    "result = suppressWarnings(bind_rows(result))\n",
    "fwrite(result, 'result/cohortLevelBL.csv')"
   ]
  },
  {
   "cell_type": "code",
   "execution_count": 55,
   "metadata": {},
   "outputs": [
    {
     "name": "stdout",
     "output_type": "stream",
     "text": [
      "\n",
      " Hyposmia done for "
     ]
    },
    {
     "name": "stderr",
     "output_type": "stream",
     "text": [
      "Warning message in fitter(X, Y, istrat, offset, init, control, weights = weights, :\n",
      "\"Ran out of iterations and did not converge\"\n"
     ]
    },
    {
     "name": "stdout",
     "output_type": "stream",
     "text": [
      "PPMI , PreCEPT_PostCEPT , PDBP , UDALL_PENN\n",
      " Cognitive_Impairment done for PPMI , PreCEPT_PostCEPT , PARKWEST , DATATOP , PICNICS , NET_PD_LS1 , PDBP , HBS , PROPARK , UDALL_PENN , \n",
      " Wearing_Off done for PPMI , PreCEPT_PostCEPT , PARKWEST , PICNICS , NET_PD_LS1 , DIGPD , PDBP , HBS , PROPARK , UDALL_PENN , \n",
      " Dyskinesia done for PPMI , PreCEPT_PostCEPT , PARKWEST , DATATOPPICNICSNET_PD_LS1 , DIGPD , PDBP , HBS , PROPARK , UDALL_PENN , \n",
      " Depression done for PPMI , PreCEPT_PostCEPT , PARKWEST , DATATOP , PICNICS , NET_PD_LS1 , DIGPD , PDBP , HBS , PROPARK , UDALL_PENN , \n",
      " RLS done for PPMI , PARKWEST , DIGPD , PDBP , HBS , PROPARK\n",
      " Constipation done for PPMI , PreCEPT_PostCEPT , PARKWEST , DATATOPPICNICS , DIGPD , PDBP , PROPARK , \n",
      " pRBD done for PPMI , PARKWEST , PDBP , \n",
      " Daytime_Sleepiness done for PPMI , PreCEPT_PostCEPT , PARKWEST , DATATOPPICNICS , DIGPD , PDBP , PROPARK , \n",
      " Insomnia done for PPMI , PreCEPT_PostCEPT , PARKWEST , DATATOP , PICNICS , DIGPD , PDBP , HBS , PROPARK , \n",
      " SEADL70 done for PPMI , PreCEPT_PostCEPT , PARKWEST , DATATOP , NET_PD_LS1 , DIGPD , PDBP , UDALL_PENN , "
     ]
    }
   ],
   "source": [
    "coxAnalysis = function(df, outcome, covs){\n",
    "  cat('\\n', outcome, 'done for ')\n",
    "  DF = data.frame(STUDY = STUDYs, OUTCOME = outcome, \n",
    "                  BETA=NA, HR=NA, SE=NA, Z=NA, P=NA, N=NA, E=NA, \n",
    "                  COVS=NA)\n",
    "  df[, 'Y'] = df[outcome]\n",
    "  for (STUDY in STUDYs){\n",
    "    dfs = df %>% \n",
    "      filter(STUDY_NAME == STUDY) %>%\n",
    "      filter(!is.na(Y)) %>%\n",
    "      select(c('ID', 'TSTART', 'Y', 'BLDfDIAG', covs))\n",
    "    if(nrow(dfs)==0){next} # No outcome\n",
    "    # Create dataset for survival\n",
    "    time2follow = dfs %>%\n",
    "      arrange(TSTART) %>%\n",
    "      group_by(ID, .keep_all = T) %>%\n",
    "      mutate(BEGIN = first(TSTART),\n",
    "             END = last(TSTART)) %>% # BEGIN and END are identical within each ID\n",
    "      mutate(END = ifelse(Y==1, TSTART, END)) %>% # If 1, then END will be updated\n",
    "      data.frame %>%\n",
    "      arrange(END) %>% \n",
    "      distinct(ID, .keep_all = T) %>%  # take the smallest END\n",
    "      select(ID, BEGIN, END) %>% \n",
    "      filter(END>0) # Some binomial outcomes only recoreded at baseline > remove\n",
    "    cohort_by_first_event = left_join(dfs, time2follow, by = 'ID') %>%\n",
    "      filter(BEGIN <= TSTART & TSTART <= END) %>% # filter observation between BEGIN and END\n",
    "      arrange(TSTART) %>% \n",
    "      group_by(ID) %>% \n",
    "      mutate_at(vars(c('Y', covs)), list(~na.locf(., na.rm = F))) %>% # NAs replaced by locf\n",
    "      ungroup()\n",
    "    dfsurv = cohort_by_first_event %>% \n",
    "      arrange(TSTART) %>% group_by(ID) %>%\n",
    "      mutate(BLDfDIAG = BLDfDIAG + first(TSTART)/365.25, # Follow-up starts TSTART > 0 sometimes, Needs update\n",
    "             TSTART = (TSTART - first(TSTART))/365.25) %>% # New baseline set 0 (Especially, ParkWest)\n",
    "      mutate(TSTOP = lead(TSTART), # The TSTART[i+1] will be the stop time\n",
    "             event = lead(Y), # the OUTCOME is updated by the one at the stop time\n",
    "             BLDfDIAGsq = BLDfDIAG^2) %>% #BLDfDIAGsq is updated \n",
    "      mutate(TSTOP = ifelse(is.na(TSTOP), END/365.25, TSTOP)) %>% # replace the TSOP with ENNDING TSTART\n",
    "      data.frame %>% arrange(ID, TSTART) %>% \n",
    "      filter(!is.na(event)) # the basially last follow-up data will be erased (Right censored)\n",
    "    if(nrow(dfsurv)==0){next} # No effective obs\n",
    "    covsNA = colSums(is.na(dfsurv[covs]))\n",
    "    covsNAratio = covsNA/nrow(dfsurv)\n",
    "    covsToUse = covs[covsNAratio<0.1]\n",
    "    dfsurv = dfsurv[complete.cases(dfsurv[covsToUse]), ]\n",
    "    N = dfsurv$ID %>% unique %>% length\n",
    "    E = sum(dfsurv$event)\n",
    "    if(E<20){cat(STUDY);next} # Less than 20 outcomes\n",
    "    mod = sprintf('Surv(TSTART, TSTOP, event == 1) ~ %s', paste(covsToUse, collapse = ' + '))\n",
    "    mod = sprintf('Surv(TSTART, TSTOP, event == 1) ~ %s + I(Age^2) + I(DiseaseDuration^2)', paste(covsToUse, collapse = ' + '))\n",
    "    res = coxph(as.formula(mod), data=dfsurv)\n",
    "    resM = summary(res) %>% coef %>% as.matrix \n",
    "    DF[DF$STUDY==STUDY, 3:7] = resM['FEMALE',]\n",
    "    DF[DF$STUDY==STUDY, 8:9] = c(N, E)\n",
    "    DF[DF$STUDY==STUDY, 10]  = mod\n",
    "    cat(STUDY,', ')\n",
    "  }\n",
    "  return(DF)\n",
    "}\n",
    "COVs = c('FEMALE', 'Age', 'DiseaseDuration', 'DOPA', 'AGONIST')\n",
    "result = lapply(VARSb[-1], function(x){coxAnalysis(d, x, COVs)})\n",
    "result = suppressWarnings(bind_rows(result))\n",
    "fwrite(result, 'result/cohortLevelSurv.csv') "
   ]
  },
  {
   "cell_type": "code",
   "execution_count": 56,
   "metadata": {},
   "outputs": [
    {
     "name": "stdout",
     "output_type": "stream",
     "text": [
      "\n",
      " UPDRS_scaled done for PPMI , PreCEPT_PostCEPT , PARKWEST , DATATOP , PICNICS , NET_PD_LS1 , DIGPD , PDBP , "
     ]
    },
    {
     "name": "stderr",
     "output_type": "stream",
     "text": [
      "boundary (singular) fit: see ?isSingular\n",
      "\n"
     ]
    },
    {
     "name": "stdout",
     "output_type": "stream",
     "text": [
      "UDALL_PENN , \n",
      " UPDRS1_scaled done for PPMI , PreCEPT_PostCEPT , PARKWEST , NET_PD_LS1 , DIGPD , PDBP , "
     ]
    },
    {
     "name": "stderr",
     "output_type": "stream",
     "text": [
      "boundary (singular) fit: see ?isSingular\n",
      "\n"
     ]
    },
    {
     "name": "stdout",
     "output_type": "stream",
     "text": [
      "UDALL_PENN , \n",
      " UPDRS2_scaled done for PPMI , PreCEPT_PostCEPT , PARKWEST , NET_PD_LS1 , DIGPD , PDBP , UDALL_PENN , \n",
      " UPDRS3_scaled done for PPMI , PreCEPT_PostCEPT , PARKWEST , NET_PD_LS1 , DIGPD , PDBP , UDALL_PENN , \n",
      " UPDRS4_scaled done for "
     ]
    },
    {
     "name": "stderr",
     "output_type": "stream",
     "text": [
      "boundary (singular) fit: see ?isSingular\n",
      "\n"
     ]
    },
    {
     "name": "stdout",
     "output_type": "stream",
     "text": [
      "PPMI , PARKWEST , NET_PD_LS1 , "
     ]
    },
    {
     "name": "stderr",
     "output_type": "stream",
     "text": [
      "boundary (singular) fit: see ?isSingular\n",
      "\n"
     ]
    },
    {
     "name": "stdout",
     "output_type": "stream",
     "text": [
      "DIGPD , "
     ]
    },
    {
     "name": "stderr",
     "output_type": "stream",
     "text": [
      "boundary (singular) fit: see ?isSingular\n",
      "\n"
     ]
    },
    {
     "name": "stdout",
     "output_type": "stream",
     "text": [
      "PDBP , "
     ]
    },
    {
     "name": "stderr",
     "output_type": "stream",
     "text": [
      "boundary (singular) fit: see ?isSingular\n",
      "\n"
     ]
    },
    {
     "name": "stdout",
     "output_type": "stream",
     "text": [
      "UDALL_PENN , \n",
      " HY done for PPMI , PreCEPT_PostCEPT , PARKWEST , DATATOP , "
     ]
    },
    {
     "name": "stderr",
     "output_type": "stream",
     "text": [
      "boundary (singular) fit: see ?isSingular\n",
      "\n"
     ]
    },
    {
     "name": "stdout",
     "output_type": "stream",
     "text": [
      "PICNICS , "
     ]
    },
    {
     "name": "stderr",
     "output_type": "stream",
     "text": [
      "Warning message in optwrap(optimizer, devfun, getStart(start, rho$lower, rho$pp), :\n",
      "\"convergence code 1 from optimx\"\n",
      "Warning message in checkConv(attr(opt, \"derivs\"), opt$par, ctrl = control$checkConv, :\n",
      "\"Model failed to converge with max|grad| = 24.0681 (tol = 0.002, component 1)\"\n",
      "Warning message in checkConv(attr(opt, \"derivs\"), opt$par, ctrl = control$checkConv, :\n",
      "\"Model is nearly unidentifiable: very large eigenvalue\n",
      " - Rescale variables?\"\n"
     ]
    },
    {
     "name": "stdout",
     "output_type": "stream",
     "text": [
      "NET_PD_LS1 , DIGPD , PDBP , "
     ]
    },
    {
     "name": "stderr",
     "output_type": "stream",
     "text": [
      "boundary (singular) fit: see ?isSingular\n",
      "\n"
     ]
    },
    {
     "name": "stdout",
     "output_type": "stream",
     "text": [
      "PROPARK , UDALL_PENN , \n",
      " MMSE done for "
     ]
    },
    {
     "name": "stderr",
     "output_type": "stream",
     "text": [
      "boundary (singular) fit: see ?isSingular\n",
      "\n"
     ]
    },
    {
     "name": "stdout",
     "output_type": "stream",
     "text": [
      "PreCEPT_PostCEPT , PARKWEST , "
     ]
    },
    {
     "name": "stderr",
     "output_type": "stream",
     "text": [
      "boundary (singular) fit: see ?isSingular\n",
      "\n"
     ]
    },
    {
     "name": "stdout",
     "output_type": "stream",
     "text": [
      "DATATOP , DIGPD , PROPARK , \n",
      " MoCA done for PPMI , PreCEPT_PostCEPT , "
     ]
    },
    {
     "name": "stderr",
     "output_type": "stream",
     "text": [
      "boundary (singular) fit: see ?isSingular\n",
      "\n"
     ]
    },
    {
     "name": "stdout",
     "output_type": "stream",
     "text": [
      "PDBP , UDALL_PENN , \n",
      " SEADL done for PPMI , PreCEPT_PostCEPT , PARKWEST , DATATOP , NET_PD_LS1 , DIGPD , "
     ]
    },
    {
     "name": "stderr",
     "output_type": "stream",
     "text": [
      "boundary (singular) fit: see ?isSingular\n",
      "\n"
     ]
    },
    {
     "name": "stdout",
     "output_type": "stream",
     "text": [
      "PDBP , "
     ]
    },
    {
     "name": "stderr",
     "output_type": "stream",
     "text": [
      "boundary (singular) fit: see ?isSingular\n",
      "\n"
     ]
    },
    {
     "name": "stdout",
     "output_type": "stream",
     "text": [
      "UDALL_PENN , "
     ]
    }
   ],
   "source": [
    "lmerAnalysis = function(df, outcome, covs){\n",
    "  cat('\\n', outcome, 'done for ')\n",
    "  df[,'Y'] = df[,outcome] # sometimes df[outcome] works instead of df[,outcome]\n",
    "  DF = data.frame(STUDY = STUDYs, OUTCOME = outcome, \n",
    "                  BETA=NA, SE=NA, DF=NA, Tval=NA, P=NA, N=NA, N_obs=NA, \n",
    "                  COVS=NA)\n",
    "  for (STUDY in STUDYs){\n",
    "    dfs = df %>% filter(STUDY_NAME==STUDY) %>% \n",
    "      filter(!is.na(Y)) %>% \n",
    "      mutate_at(vars(covs), list(~na.locf(., na.rm=F))) %>% \n",
    "      mutate(TSTART=TSTART/365.25) %>%\n",
    "      group_by(ID) %>%\n",
    "      filter(n()>=2) %>%\n",
    "      ungroup()\n",
    "    if(nrow(dfs)==0){next} # No outcome\n",
    "    covsNA = colSums(is.na(dfs[covs]))\n",
    "    covsNAratio = covsNA/nrow(dfs)\n",
    "    covsToUse = covs[covsNAratio<0.1]\n",
    "    dfs = dfs[complete.cases(dfs[covsToUse]), ] # Complete set\n",
    "    covsOneValue = covsToUse[apply(dfs[covsToUse], 2, sd)==0] # Variables only have one value\n",
    "    covsToUseNoFemale = setdiff(covsToUse, c('FEMALE', covsOneValue))\n",
    "      \n",
    "    # reslacing\n",
    "    scale1 <- function(x){scale(x)[,1]}\n",
    "    dfs = dfs %>%\n",
    "        mutate_at(vars(all_of(covsToUseNoFemale)), scale1)\n",
    "    N_obs = nrow(dfs)\n",
    "    \n",
    "    N = length(unique(dfs$ID))\n",
    "    if(N_obs<3*N){next} # follow-up too few to accomodate random slope\n",
    "    # Analysis\n",
    "#     mod = sprintf('Y ~ %s + FEMALE:TSTART + (TSTART|ID) + I(TSTART^2)', paste(covsToUse, collapse = ' + '))\n",
    "#     mod = sprintf('Y ~ %s + FEMALE:TSTART + (TSTART|ID) + I(TSTART^2) + I(AGEatBL^2)', paste(covsToUse, collapse = ' + '))\n",
    "#     mod = sprintf('Y ~ %s + FEMALE:TSTART + (DiseaseDuration|ID) + I(Age^2) + I(DiseaseDuration^2)', paste(covsToUseNoFemale, collapse = ' + '))\n",
    "    mod = sprintf('Y ~ %s + FEMALE + FEMALE:DiseaseDuration + (DiseaseDuration|ID) + I(Age^2) + I(DiseaseDuration^2)', paste(covsToUseNoFemale, collapse = ' + '))\n",
    "#     mod = sprintf('Y ~ %s + FEMALE*TSTART + (DiseaseDuration|ID) + I(Age^2) + I(DiseaseDuration^2)', paste(covsToUseNoFemale, collapse = ' + '))\n",
    "    res = lmer(as.formula(mod), data=dfs, control = lmerControl(optimizer = \"optimx\", optCtrl = list(method = \"nlminb\")))\n",
    "    resM = summary(res) %>% coef %>% as.matrix\n",
    "#     DF[DF$STUDY==STUDY, 3:7] = resM['FEMALE:TSTART',]\n",
    "    DF[DF$STUDY==STUDY, 3:7] = resM['DiseaseDuration:FEMALE',]\n",
    "    DF[DF$STUDY==STUDY, 8:9] = c(N, N_obs)\n",
    "    DF[DF$STUDY==STUDY, 10]  = mod\n",
    "    cat(STUDY, ', ')\n",
    "  }\n",
    "  return(DF)\n",
    "}\n",
    "COVs = c('FEMALE', 'Age', 'DiseaseDuration', 'DOPA', 'AGONIST')\n",
    "result = lapply(VARSc, function(x){lmerAnalysis(d, x, COVs)})\n",
    "result = suppressWarnings(bind_rows(result))\n",
    "fwrite(result, 'result/cohortLevelMIX.csv')"
   ]
  },
  {
   "cell_type": "markdown",
   "metadata": {},
   "source": [
    "# Meta-analysis"
   ]
  },
  {
   "cell_type": "markdown",
   "metadata": {},
   "source": [
    "ParkFit only has 2 time points - baseline and 2 years later. \n",
    "-> exclude from cox meta-analysis"
   ]
  },
  {
   "cell_type": "code",
   "execution_count": 57,
   "metadata": {},
   "outputs": [
    {
     "name": "stdout",
     "output_type": "stream",
     "text": [
      "[1] \"Hyposmia\"\n",
      "[1] \"Cognitive_Impairment\"\n",
      "[1] \"Wearing_Off\"\n",
      "[1] \"Dyskinesia\"\n",
      "[1] \"Depression\"\n",
      "[1] \"RLS\"\n",
      "[1] \"Constipation\"\n",
      "[1] \"pRBD\"\n",
      "[1] \"Daytime_Sleepiness\"\n",
      "[1] \"Insomnia\"\n",
      "[1] \"SEADL70\"\n"
     ]
    },
    {
     "data": {
      "text/html": [
       "<ol>\n",
       "\t<li>NULL</li>\n",
       "\t<li>NULL</li>\n",
       "\t<li>NULL</li>\n",
       "\t<li>NULL</li>\n",
       "\t<li>NULL</li>\n",
       "\t<li>NULL</li>\n",
       "\t<li>NULL</li>\n",
       "\t<li>NULL</li>\n",
       "\t<li>NULL</li>\n",
       "\t<li>NULL</li>\n",
       "\t<li>NULL</li>\n",
       "</ol>\n"
      ],
      "text/latex": [
       "\\begin{enumerate}\n",
       "\\item NULL\n",
       "\\item NULL\n",
       "\\item NULL\n",
       "\\item NULL\n",
       "\\item NULL\n",
       "\\item NULL\n",
       "\\item NULL\n",
       "\\item NULL\n",
       "\\item NULL\n",
       "\\item NULL\n",
       "\\item NULL\n",
       "\\end{enumerate}\n"
      ],
      "text/markdown": [
       "1. NULL\n",
       "2. NULL\n",
       "3. NULL\n",
       "4. NULL\n",
       "5. NULL\n",
       "6. NULL\n",
       "7. NULL\n",
       "8. NULL\n",
       "9. NULL\n",
       "10. NULL\n",
       "11. NULL\n",
       "\n",
       "\n"
      ],
      "text/plain": [
       "[[1]]\n",
       "NULL\n",
       "\n",
       "[[2]]\n",
       "NULL\n",
       "\n",
       "[[3]]\n",
       "NULL\n",
       "\n",
       "[[4]]\n",
       "NULL\n",
       "\n",
       "[[5]]\n",
       "NULL\n",
       "\n",
       "[[6]]\n",
       "NULL\n",
       "\n",
       "[[7]]\n",
       "NULL\n",
       "\n",
       "[[8]]\n",
       "NULL\n",
       "\n",
       "[[9]]\n",
       "NULL\n",
       "\n",
       "[[10]]\n",
       "NULL\n",
       "\n",
       "[[11]]\n",
       "NULL\n"
      ]
     },
     "metadata": {},
     "output_type": "display_data"
    }
   ],
   "source": [
    "createLogisticForest = function(OUTCOMEi, df){\n",
    "  df_i = df %>% \n",
    "    filter(OUTCOME==OUTCOMEi, SE>1E-5)\n",
    "  n_all = length(df_i$STUDY)\n",
    "  n_denovo = length(intersect(df_i$STUDY, DENOVOs))\n",
    "  if(n_all>1){\n",
    "    if(n_denovo>1){\n",
    "    k1 = rma(yi=BETA, sei= SE, data= df_i %>% filter(STUDY %in% DENOVOs), method = \"REML\")\n",
    "    }else{k1=NULL}\n",
    "    if(n_all>n_denovo){\n",
    "    k2 = rma(yi=BETA, sei= SE, data=df_i %>% filter(!(STUDY %in% DENOVOs)), method = \"REML\", slab=STUDY)\n",
    "    }else{k2=NULL}\n",
    "    k3 = rma(yi=BETA, sei= SE, data=df_i, method = \"REML\", slab=STUDY)\n",
    "    Ylab = c(n_all + 6 - c(1:n_denovo, (n_denovo+4):(n_all+3)))\n",
    "    if(n_denovo==0){Ylab = c(n_all + 6 - (n_denovo+4):(n_all+3))}\n",
    "    op <- par(cex = 1, font=1)\n",
    "    print(OUTCOMEi)\n",
    "    figout = sprintf('result/%s_Logistic.png', OUTCOMEi)\n",
    "    png(figout, width=2000, height=2000, res=300)\n",
    "    forest(k3, cex=.9, rows = Ylab, ylim = c(-1, max(Ylab) + 4),\n",
    "         xlim=c(-5, 3), at=log(c(0.25, 0.5, 1, 2, 3, 4)),\n",
    "         ilab = sprintf('%d / %d', df_i$Ncase, df_i$N-df_i$Ncase),\n",
    "         ilab.xpos = -2,\n",
    "         atransf=exp,\n",
    "         mlab=sprintf('Meta-analysis for all \\n(P = %.2g , I_sq = %.1f%%, Q-test = %.3f)', \n",
    "                      k3$pval, k3$I2, k3$QEp), \n",
    "         addfit=T, xlab = 'Odds Ratio',\n",
    "         main = paste(OUTCOMEi,': sex differences in odds at baseline\\n(reference - Male)'),\n",
    "         order=order(factor(df_i$STUDY, levels=STUDYs)))\n",
    "    text(-5, max(Ylab)+2.5, bquote(\"Cohort\"), pos=4, cex=.9)\n",
    "    text(-2.7, max(Ylab)+2.5, bquote(\"Case / Control\"), pos=4, cex=.8)\n",
    "    text(3, max(Ylab)+2.5, bquote(\"OR [95% C.I.]\"), pos=2, cex=.9)\n",
    "    op <- par(cex=.8, font=4)\n",
    "    if(n_denovo>0){text(-5, max(Ylab)+1, bquote(\"De novo Cohorts\"), pos=4)}\n",
    "    text(-5,  n_all + 2.8 - n_denovo, \"Other Cohorts\", pos=4)\n",
    "    op <- par(cex=0.8, font=3)\n",
    "    if(n_denovo>1){\n",
    "    addpoly(k1, atransf=exp, row= n_all + 4.8 - n_denovo, col=\"grey\",\n",
    "            mlab = sprintf('Meta-analysis for de novo cohorts \\n(P = %.2g, I_sq = %.1f%%, Q-test = %.2g)', \n",
    "                           k1$pval, k1$I2, k1$QEp))\n",
    "    }\n",
    "    if((n_all - n_denovo)>1){\n",
    "    addpoly(k2, atransf=exp, row= 1.8, col=\"grey\",\n",
    "            mlab = sprintf('Meta-analysis for the other cohorts \\n(P = %.2g, I_sq = %.1f%%, Q-test = %.2g)', \n",
    "                           k2$pval, k2$I2, k2$QEp))\n",
    "    }\n",
    "    op <- par(cex=1, font=1)\n",
    "    dev.off() \n",
    "    write(paste(OUTCOMEi, 'logistic', k3$beta, k3$se, k3$pval, k3$I2, k3$QEp, sep=','), file = 'result/meta.csv', append=T)\n",
    "  }\n",
    "}\n",
    "write(paste('OUTCOME', 'MODEL', 'BETA', 'SE', 'P', 'Isq', 'QEp', sep=','), file = 'result/meta.csv', append=F)\n",
    "lapply(VARSb[-1], function(x){createLogisticForest(x, fread('result/cohortLevelBL.csv'))})"
   ]
  },
  {
   "cell_type": "code",
   "execution_count": 58,
   "metadata": {},
   "outputs": [
    {
     "name": "stdout",
     "output_type": "stream",
     "text": [
      "[1] \"Hyposmia\"\n",
      "[1] \"Cognitive_Impairment\"\n",
      "[1] \"Wearing_Off\"\n",
      "[1] \"Dyskinesia\"\n",
      "[1] \"Depression\"\n",
      "[1] \"RLS\"\n",
      "[1] \"Constipation\"\n",
      "[1] \"pRBD\"\n",
      "[1] \"Daytime_Sleepiness\"\n",
      "[1] \"Insomnia\"\n",
      "[1] \"SEADL70\"\n"
     ]
    }
   ],
   "source": [
    "df =  fread('result/cohortLevelSurv.csv')\n",
    "for(OUTCOMEi in VARSb[-1]){\n",
    "#   df_i = df %>% filter(OUTCOME==OUTCOMEi, abs(BETA)<1.5, SE>1E-5) # PARKFIT HY3 SURV\n",
    "  df_i = df %>% filter(OUTCOME==OUTCOMEi, SE>1E-5) # PARKFIT HY3 SURV\n",
    "  n_all = length(df_i$STUDY)\n",
    "  n_denovo = length(intersect(df_i$STUDY, DENOVOs))\n",
    "  if(n_all>1){\n",
    "    if(OUTCOMEi=='MCI'){OUTCOMEi='Cognitive_Impairment'}\n",
    "    print(OUTCOMEi)\n",
    "    figout = sprintf('result/%s_Surv.png', OUTCOMEi)\n",
    "    png(figout, width=2000, height=2000, res=300)\n",
    "    if(n_denovo>1){\n",
    "    k1 = rma(yi=BETA, sei= SE, data= df_i %>% filter(STUDY %in% DENOVOs), method = \"REML\")\n",
    "    }else{k1=NULL}\n",
    "    if(n_all>n_denovo){\n",
    "    k2 = rma(yi=BETA, sei= SE, data=df_i %>% filter(!(STUDY %in% DENOVOs)), method = \"REML\", slab=STUDY)\n",
    "    }else{k2=NULL}\n",
    "    k3 = rma(yi=BETA, sei= SE, data=df_i, method = \"REML\", slab=STUDY)\n",
    "    Ylab = c(n_all + 6 - c(1:n_denovo, (n_denovo+4):(n_all+3)))\n",
    "    if(n_denovo==0){Ylab = c(n_all + 6 - (n_denovo+4):(n_all+3))}\n",
    "    op <- par(cex = 1, font=1)\n",
    "    forest(k3, cex=.9, rows = Ylab, ylim = c(-1, max(Ylab) + 4),\n",
    "         xlim=c(-5, 3), at=log(c(0.25, 0.5, 1, 2, 3, 4)),\n",
    "         ilab = sprintf('%d / %d', df_i$E, df_i$N),\n",
    "         ilab.xpos = -2,\n",
    "         atransf=exp,\n",
    "         mlab=sprintf('Meta-analysis for all \\n(P = %.2g, I_sq = %.1f%%, Q-test = %.2g)', \n",
    "                      k3$pval, k3$I2, k3$QEp), \n",
    "         addfit=T, xlab = 'Hazard Ratio',\n",
    "         main = paste(OUTCOMEi, ': sex differences in survival\\n(reference - Male)'),\n",
    "         order=order(factor(df_i$STUDY, levels=STUDYs)))\n",
    "    text(-5, max(Ylab)+2.5, bquote(\"Cohort\"), pos=4, cex=.9)\n",
    "    text(-2.6, max(Ylab)+2.5, bquote(\"Event / N\"), pos=4, cex=.8)\n",
    "    text(3, max(Ylab)+2.5, bquote(\"HR [95% C.I.]\"), pos=2, cex=.9)\n",
    "    op <- par(cex=.8, font=4)\n",
    "    if(n_denovo>0){text(-5, max(Ylab)+1, bquote(\"de novo Cohorts\"), pos=4)}\n",
    "    text(-5,  n_all + 2.8 - n_denovo, \"Other Cohorts\", pos=4)\n",
    "    op <- par(cex=0.8, font=3)\n",
    "    if(n_denovo>1){\n",
    "    addpoly(k1, atransf=exp, row= n_all + 4.8 - n_denovo, col=\"grey\",\n",
    "            mlab = sprintf('Meta-analysis for de novo cohorts \\n(P = %.2g, I_sq = %.1f%%, Q-test = %.2g)', \n",
    "                           k1$pval, k1$I2, k1$QEp))\n",
    "    }\n",
    "    if((n_all - n_denovo)>1){\n",
    "    addpoly(k2, atransf=exp, row= 1.8, col=\"grey\",\n",
    "            mlab = sprintf('Meta-analysis for the other cohorts \\n(P = %.2g, I_sq = %.1f%%, Q-test = %.2g)', \n",
    "                           k2$pval, k2$I2, k2$QEp))\n",
    "    }\n",
    "    op <- par(cex=1, font=1)\n",
    "    dev.off()\n",
    "    write(paste(OUTCOMEi, 'survival', k3$beta, k3$se, k3$pval, k3$I2, k3$QEp, sep=','), file = 'result/meta.csv', append=T)\n",
    "  }\n",
    "}"
   ]
  },
  {
   "cell_type": "code",
   "execution_count": 59,
   "metadata": {},
   "outputs": [
    {
     "name": "stdout",
     "output_type": "stream",
     "text": [
      "[1] \"UPDRS_scaled\"\n",
      "[1] \"UPDRS1_scaled\"\n",
      "[1] \"UPDRS2_scaled\"\n",
      "[1] \"UPDRS3_scaled\"\n",
      "[1] \"UPDRS4_scaled\"\n",
      "[1] \"HY\"\n",
      "[1] \"MMSE\"\n",
      "[1] \"MoCA\"\n",
      "[1] \"SEADL\"\n"
     ]
    },
    {
     "data": {
      "text/html": [
       "<ol>\n",
       "\t<li>NULL</li>\n",
       "\t<li>NULL</li>\n",
       "\t<li>NULL</li>\n",
       "\t<li>NULL</li>\n",
       "\t<li>NULL</li>\n",
       "\t<li>NULL</li>\n",
       "\t<li>NULL</li>\n",
       "\t<li>NULL</li>\n",
       "\t<li>NULL</li>\n",
       "</ol>\n"
      ],
      "text/latex": [
       "\\begin{enumerate}\n",
       "\\item NULL\n",
       "\\item NULL\n",
       "\\item NULL\n",
       "\\item NULL\n",
       "\\item NULL\n",
       "\\item NULL\n",
       "\\item NULL\n",
       "\\item NULL\n",
       "\\item NULL\n",
       "\\end{enumerate}\n"
      ],
      "text/markdown": [
       "1. NULL\n",
       "2. NULL\n",
       "3. NULL\n",
       "4. NULL\n",
       "5. NULL\n",
       "6. NULL\n",
       "7. NULL\n",
       "8. NULL\n",
       "9. NULL\n",
       "\n",
       "\n"
      ],
      "text/plain": [
       "[[1]]\n",
       "NULL\n",
       "\n",
       "[[2]]\n",
       "NULL\n",
       "\n",
       "[[3]]\n",
       "NULL\n",
       "\n",
       "[[4]]\n",
       "NULL\n",
       "\n",
       "[[5]]\n",
       "NULL\n",
       "\n",
       "[[6]]\n",
       "NULL\n",
       "\n",
       "[[7]]\n",
       "NULL\n",
       "\n",
       "[[8]]\n",
       "NULL\n",
       "\n",
       "[[9]]\n",
       "NULL\n"
      ]
     },
     "metadata": {},
     "output_type": "display_data"
    }
   ],
   "source": [
    "createLinearForest = function(OUTCOMEi, df){\n",
    "  df_i = df %>% filter(OUTCOME==OUTCOMEi, !is.na(BETA), SE>1E-5) # No beta \n",
    "  n_all = length(df_i$STUDY)\n",
    "  n_denovo = length(intersect(df_i$STUDY, DENOVOs))\n",
    "  if(n_all>1){\n",
    "    print(OUTCOMEi)\n",
    "    if(n_denovo>1){\n",
    "      k1 = rma(yi=BETA, sei= SE, data= df_i %>% filter(STUDY %in% DENOVOs), method = \"REML\")\n",
    "    }else{k1=NULL}\n",
    "    if(n_all>n_denovo){\n",
    "      k2 = rma(yi=BETA, sei= SE, data=df_i %>% filter(!(STUDY %in% DENOVOs)), method = \"REML\", slab=STUDY)\n",
    "    }else{k2=NULL}\n",
    "    \n",
    "    k3 = rma(yi=BETA, sei= SE, data=df_i, method = \"REML\", slab=STUDY)\n",
    "    Ylab = c(n_all + 6 - c(1:n_denovo, (n_denovo+4):(n_all+3)))\n",
    "    if(n_denovo==0){Ylab = c(n_all + 6 - (n_denovo+4):(n_all+3))}\n",
    "    op <- par(cex = 1, font=1)\n",
    "    Bmin = min(0, df_i$BETA)\n",
    "    Bmax = max(df_i$BETA, 0)\n",
    "    Blen = Bmax - Bmin\n",
    "    Xmin = Bmin - 5*Blen\n",
    "    Xmax = Bmax + 3*Blen\n",
    "    figout = sprintf('result/%s_Linear.png', OUTCOMEi)\n",
    "    png(figout, width=2000, height=2000, res=300)\n",
    "    forest(k3, cex=.9, rows = Ylab, ylim = c(-1, max(Ylab) + 4),\n",
    "           xlim=c(Xmin, Xmax), at=c(Bmin-Blen, Bmin, Bmax, Bmax+Blen, 0),\n",
    "           ilab = sprintf('%d', df_i$N),\n",
    "           ilab.xpos = Bmin-2*Blen,\n",
    "           mlab=sprintf('Meta-analysis for all \\n(P = %.2g, I_sq = %.1f%%, Q-test = %.2g)', \n",
    "                        k3$pval, k3$I2, k3$QEp), \n",
    "           addfit=T, xlab = 'Difference',\n",
    "           main = paste(OUTCOMEi, ': sex differences at baseline\\n(reference - Male)'),\n",
    "           order=order(factor(df_i$STUDY, levels=STUDYs)))\n",
    "    text(Xmin, max(Ylab)+2.5, bquote(\"Cohort\"), pos=4, cex=.9)\n",
    "    text(Bmin-2.3*Blen, max(Ylab)+2.5, bquote(\"N\"), pos=4, cex=.9)\n",
    "    text(Xmax, max(Ylab)+2.5, bquote(\"Mean [95% C.I.]\"), pos=2, cex=.9)\n",
    "    op <- par(cex=.8, font=4)\n",
    "    if(n_denovo>0){text(Xmin, max(Ylab)+1, bquote(\"de novo Cohorts\"), pos=4)}\n",
    "    text(Xmin,  n_all + 2.8 - n_denovo, \"Other Cohorts\", pos=4)\n",
    "    op <- par(cex=0.8, font=3)\n",
    "    if(n_denovo>1){\n",
    "      addpoly(k1, row= n_all + 4.8 - n_denovo, col=\"grey\",\n",
    "              mlab = sprintf('Meta-analysis for de novo cohorts \\n(P = %.2g, I_sq = %.1f%%, Q-test = %.2g)', \n",
    "                             k1$pval, k1$I2, k1$QEp))\n",
    "    }\n",
    "    if((n_all - n_denovo)>1){\n",
    "      addpoly(k2, row= 1.8, col=\"grey\",\n",
    "              mlab = sprintf('Meta-analysis for the other cohorts \\n(P = %.2g, I_sq = %.1f%%, Q-test = %.2g)', \n",
    "                             k2$pval, k2$I2, k2$QEp))\n",
    "    }\n",
    "    op <- par(cex=1, font=1)\n",
    "    dev.off()\n",
    "    write(paste(OUTCOMEi, 'linear', k3$beta, k3$se, k3$pval, k3$I2, k3$QEp, sep=','), file = 'result/meta.csv', append=T)\n",
    "  }\n",
    "}\n",
    "lapply(VARSc, function(x){createLinearForest(x, fread('result/cohortLevelBL.csv'))})"
   ]
  },
  {
   "cell_type": "code",
   "execution_count": 60,
   "metadata": {},
   "outputs": [
    {
     "name": "stdout",
     "output_type": "stream",
     "text": [
      "[1] \"UPDRS_scaled\"\n",
      "[1] \"UPDRS1_scaled\"\n",
      "[1] \"UPDRS2_scaled\"\n",
      "[1] \"UPDRS3_scaled\"\n",
      "[1] \"UPDRS4_scaled\"\n",
      "[1] \"HY\"\n",
      "[1] \"MMSE\"\n",
      "[1] \"MoCA\"\n",
      "[1] \"SEADL\"\n"
     ]
    },
    {
     "data": {
      "text/html": [
       "<ol>\n",
       "\t<li>NULL</li>\n",
       "\t<li>NULL</li>\n",
       "\t<li>NULL</li>\n",
       "\t<li>NULL</li>\n",
       "\t<li>NULL</li>\n",
       "\t<li>NULL</li>\n",
       "\t<li>NULL</li>\n",
       "\t<li>NULL</li>\n",
       "\t<li>NULL</li>\n",
       "</ol>\n"
      ],
      "text/latex": [
       "\\begin{enumerate}\n",
       "\\item NULL\n",
       "\\item NULL\n",
       "\\item NULL\n",
       "\\item NULL\n",
       "\\item NULL\n",
       "\\item NULL\n",
       "\\item NULL\n",
       "\\item NULL\n",
       "\\item NULL\n",
       "\\end{enumerate}\n"
      ],
      "text/markdown": [
       "1. NULL\n",
       "2. NULL\n",
       "3. NULL\n",
       "4. NULL\n",
       "5. NULL\n",
       "6. NULL\n",
       "7. NULL\n",
       "8. NULL\n",
       "9. NULL\n",
       "\n",
       "\n"
      ],
      "text/plain": [
       "[[1]]\n",
       "NULL\n",
       "\n",
       "[[2]]\n",
       "NULL\n",
       "\n",
       "[[3]]\n",
       "NULL\n",
       "\n",
       "[[4]]\n",
       "NULL\n",
       "\n",
       "[[5]]\n",
       "NULL\n",
       "\n",
       "[[6]]\n",
       "NULL\n",
       "\n",
       "[[7]]\n",
       "NULL\n",
       "\n",
       "[[8]]\n",
       "NULL\n",
       "\n",
       "[[9]]\n",
       "NULL\n"
      ]
     },
     "metadata": {},
     "output_type": "display_data"
    }
   ],
   "source": [
    "df =  fread('result/cohortLevelMIX.csv')\n",
    "createLinearForest = function(OUTCOMEi, df){\n",
    "  df_i = df %>% filter(OUTCOME==OUTCOMEi, !is.na(BETA), SE>1E-5) # No beta thres\n",
    "  n_all = length(df_i$STUDY)\n",
    "  n_denovo = length(intersect(df_i$STUDY, DENOVOs))\n",
    "  if(n_all>1){\n",
    "    print(OUTCOMEi)\n",
    "    if(n_denovo>1){\n",
    "      k1 = rma(yi=BETA, sei= SE, data= df_i %>% filter(STUDY %in% DENOVOs), method = \"REML\")\n",
    "    }else{k1=NULL}\n",
    "    if(n_all>n_denovo){\n",
    "      k2 = rma(yi=BETA, sei= SE, data=df_i %>% filter(!(STUDY %in% DENOVOs)), method = \"REML\", slab=STUDY)\n",
    "    }else{k2=NULL}\n",
    "    \n",
    "    k3 = rma(yi=BETA, sei= SE, data=df_i, method = \"REML\", slab=STUDY, digits=5, control=list(stepadj=0.5))\n",
    "    Ylab = c(n_all + 6 - c(1:n_denovo, (n_denovo+4):(n_all+3)))\n",
    "    if(n_denovo==0){Ylab = c(n_all + 6 - (n_denovo+4):(n_all+3))}\n",
    "    op <- par(cex = 1, font=1)\n",
    "    Bmin = min(0, df_i$BETA)\n",
    "    Bmax = max(df_i$BETA, 0)\n",
    "    Blen = Bmax - Bmin\n",
    "    Xmin = Bmin - 5*Blen\n",
    "    Xmax = Bmax + 3*Blen\n",
    "    figout = sprintf('result/%s_Mixed.png', OUTCOMEi)\n",
    "    png(figout, width=1440, height=1440, res=216)\n",
    "    forest(k3, cex=.9, rows = Ylab, ylim = c(-1, max(Ylab) + 4),\n",
    "           xlim=c(Xmin, Xmax), at=c(Bmin-Blen, Bmin, Bmax, Bmax+Blen, 0),\n",
    "           ilab = sprintf('%d / %d', df_i$N_obs, df_i$N),\n",
    "           ilab.xpos = Bmin-2*Blen,\n",
    "           mlab=sprintf('Meta-analysis for all \\n(P = %.2g, I_sq = %.1f%%, Q-test = %.2g)', \n",
    "                        k3$pval, k3$I2, k3$QEp), \n",
    "           addfit=T, xlab = 'Difference',\n",
    "           main = paste(OUTCOMEi, ': sex differences in rate of change per year\\n(reference - Male)'),\n",
    "           order=order(factor(df_i$STUDY, levels=STUDYs)))\n",
    "    text(Xmin, max(Ylab)+2.5, bquote(\"Cohort\"), pos=4, cex=.9)\n",
    "    text(Bmin-2.6*Blen, max(Ylab)+2.5, bquote(\"N_obs/N\"), pos=4, cex=.9)\n",
    "    text(Xmax, max(Ylab)+2.5, bquote(\"Mean [95% C.I.]\"), pos=2, cex=.9)\n",
    "    op <- par(cex=.8, font=4)\n",
    "    if(n_denovo>0){text(Xmin, max(Ylab)+1, bquote(\"de novo Cohorts\"), pos=4)}\n",
    "    text(Xmin,  n_all + 2.8 - n_denovo, \"Other Cohorts\", pos=4)\n",
    "    op <- par(cex=0.8, font=3)\n",
    "    if(n_denovo>1){\n",
    "      addpoly(k1, row= n_all + 4.8 - n_denovo, col=\"grey\",\n",
    "              mlab = sprintf('Meta-analysis for de novo cohorts \\n(P = %.2g, I_sq = %.1f%%, Q-test = %.2g)', \n",
    "                             k1$pval, k1$I2, k1$QEp))\n",
    "    }\n",
    "    if((n_all - n_denovo)>1){\n",
    "      addpoly(k2, row= 1.8, col=\"grey\",\n",
    "              mlab = sprintf('Meta-analysis for the other cohorts \\n(P = %.2g, I_sq = %.1f%%, Q-test = %.2g)', \n",
    "                             k2$pval, k2$I2, k2$QEp))\n",
    "    }\n",
    "    op <- par(cex=1, font=1)\n",
    "    dev.off()\n",
    "    write(paste(OUTCOMEi, 'mixed', k3$beta, k3$se, k3$pval, k3$I2, k3$QEp, sep=','), file = 'result/meta.csv', append=T)\n",
    "  }\n",
    "}\n",
    "lapply(VARSc, function(x){createLinearForest(x, fread('result/cohortLevelMIX.csv'))})"
   ]
  },
  {
   "cell_type": "code",
   "execution_count": 76,
   "metadata": {},
   "outputs": [
    {
     "data": {
      "text/html": [
       "40"
      ],
      "text/latex": [
       "40"
      ],
      "text/markdown": [
       "40"
      ],
      "text/plain": [
       "[1] 40"
      ]
     },
     "metadata": {},
     "output_type": "display_data"
    }
   ],
   "source": [
    "df = fread('result/meta.csv') %>% filter(!(OUTCOME %in% c('oldUPDRS', 'MDS_UPDRS', 'HY3')))\n",
    "nrow(df)\n",
    "df_adj =df %>% \n",
    "    mutate(RANK = ifelse(QEp>0.05, 1, NA)) %>% \n",
    "    arrange(RANK, P) %>% \n",
    "    mutate(RANK = cumsum(RANK)) %>%\n",
    "    mutate(Pfdr = ifelse(P*RANK<1, P*RANK, 1)) %>%\n",
    "    mutate(Ntest = max(RANK, na.rm=T)) %>%\n",
    "    mutate(Pbon = ifelse(is.na(RANK), NA, P*Ntest)) %>%\n",
    "    mutate(Pbon = ifelse(Pbon>1, 1, Pbon)) %>%\n",
    "    select(-Ntest) %>%\n",
    "    mutate(MeanCI = case_when(\n",
    "           MODEL=='survival' ~ sprintf('%.3f [%.3f, %.3f] (HR)', exp(BETA), exp(BETA - 1.96*SE), exp(BETA + 1.96*SE)),\n",
    "           MODEL=='logistic' ~ sprintf('%.3f [%.3f, %.3f] (OR)', exp(BETA), exp(BETA - 1.96*SE), exp(BETA + 1.96*SE)),\n",
    "           TRUE~sprintf('%.3f [%.3f, %.3f]', BETA, BETA - 1.96*SE, BETA + 1.96*SE)))\n",
    "fwrite(df_adj, 'result/metaPadj.csv')\n",
    "df_adj %>% \n",
    "    arrange(P) %>%\n",
    "    mutate(MODEL2 = case_when(\n",
    "        MODEL %in% c('survival', 'mixed') ~ '1_progression',\n",
    "        TRUE~'2_baseline'),\n",
    "      MeanCI = case_when(\n",
    "        MODEL=='survival' ~ sprintf('%.2f [%.2f, %.2f] (HR)', exp(BETA), exp(BETA - 1.96*SE), exp(BETA + 1.96*SE)),\n",
    "        MODEL=='logistic' ~ sprintf('%.2f [%.2f, %.2f] (OR)', exp(BETA), exp(BETA - 1.96*SE), exp(BETA + 1.96*SE)),\n",
    "        TRUE~sprintf('%.2f [%.2f, %.2f]', BETA, BETA - 1.96*SE, BETA + 1.96*SE))) %>%\n",
    "    arrange(MODEL2, OUTCOME) %>%\n",
    "    select(OUTCOME, BETA, SE, P, Pbon, MeanCI, QEp, MODEL) %>%\n",
    "    filter(Pbon<0.05) %>%\n",
    "    fwrite(., 'result/metaPadj_reduced.csv')"
   ]
  },
  {
   "cell_type": "code",
   "execution_count": null,
   "metadata": {},
   "outputs": [],
   "source": []
  },
  {
   "cell_type": "markdown",
   "metadata": {
    "toc-hr-collapsed": true
   },
   "source": [
    "# Fox Insight"
   ]
  },
  {
   "cell_type": "code",
   "execution_count": 86,
   "metadata": {},
   "outputs": [],
   "source": [
    "df = fread('PDcohorts/FoxInsight/rawdata/Processed.csv', na.strings = '')"
   ]
  },
  {
   "cell_type": "code",
   "execution_count": 87,
   "metadata": {},
   "outputs": [
    {
     "data": {
      "text/html": [
       "<table>\n",
       "<caption>A matrix: 12 × 1 of type dbl</caption>\n",
       "<tbody>\n",
       "\t<tr><th scope=row>AgeAtBL_m</th><td>64.217369</td></tr>\n",
       "\t<tr><th scope=row>BLYfDx_m</th><td> 6.257859</td></tr>\n",
       "\t<tr><th scope=row>AgeAtBL_Min</th><td>20.000000</td></tr>\n",
       "\t<tr><th scope=row>BLYfDx_Min</th><td> 0.000000</td></tr>\n",
       "\t<tr><th scope=row>AgeAtBL_q1</th><td>48.600000</td></tr>\n",
       "\t<tr><th scope=row>BLYfDx_q1</th><td> 1.000000</td></tr>\n",
       "\t<tr><th scope=row>AgeAtBL_q2</th><td>66.000000</td></tr>\n",
       "\t<tr><th scope=row>BLYfDx_q2</th><td> 4.600000</td></tr>\n",
       "\t<tr><th scope=row>AgeAtBL_q3</th><td>77.400000</td></tr>\n",
       "\t<tr><th scope=row>BLYfDx_q3</th><td>13.500000</td></tr>\n",
       "\t<tr><th scope=row>AgeAtBL_Max</th><td>90.000000</td></tr>\n",
       "\t<tr><th scope=row>BLYfDx_Max</th><td>70.000000</td></tr>\n",
       "</tbody>\n",
       "</table>\n"
      ],
      "text/latex": [
       "A matrix: 12 × 1 of type dbl\n",
       "\\begin{tabular}{r|l}\n",
       "\tAgeAtBL\\_m & 64.217369\\\\\n",
       "\tBLYfDx\\_m &  6.257859\\\\\n",
       "\tAgeAtBL\\_Min & 20.000000\\\\\n",
       "\tBLYfDx\\_Min &  0.000000\\\\\n",
       "\tAgeAtBL\\_q1 & 48.600000\\\\\n",
       "\tBLYfDx\\_q1 &  1.000000\\\\\n",
       "\tAgeAtBL\\_q2 & 66.000000\\\\\n",
       "\tBLYfDx\\_q2 &  4.600000\\\\\n",
       "\tAgeAtBL\\_q3 & 77.400000\\\\\n",
       "\tBLYfDx\\_q3 & 13.500000\\\\\n",
       "\tAgeAtBL\\_Max & 90.000000\\\\\n",
       "\tBLYfDx\\_Max & 70.000000\\\\\n",
       "\\end{tabular}\n"
      ],
      "text/markdown": [
       "\n",
       "A matrix: 12 × 1 of type dbl\n",
       "\n",
       "| AgeAtBL_m | 64.217369 |\n",
       "| BLYfDx_m |  6.257859 |\n",
       "| AgeAtBL_Min | 20.000000 |\n",
       "| BLYfDx_Min |  0.000000 |\n",
       "| AgeAtBL_q1 | 48.600000 |\n",
       "| BLYfDx_q1 |  1.000000 |\n",
       "| AgeAtBL_q2 | 66.000000 |\n",
       "| BLYfDx_q2 |  4.600000 |\n",
       "| AgeAtBL_q3 | 77.400000 |\n",
       "| BLYfDx_q3 | 13.500000 |\n",
       "| AgeAtBL_Max | 90.000000 |\n",
       "| BLYfDx_Max | 70.000000 |\n",
       "\n"
      ],
      "text/plain": [
       "            [,1]     \n",
       "AgeAtBL_m   64.217369\n",
       "BLYfDx_m     6.257859\n",
       "AgeAtBL_Min 20.000000\n",
       "BLYfDx_Min   0.000000\n",
       "AgeAtBL_q1  48.600000\n",
       "BLYfDx_q1    1.000000\n",
       "AgeAtBL_q2  66.000000\n",
       "BLYfDx_q2    4.600000\n",
       "AgeAtBL_q3  77.400000\n",
       "BLYfDx_q3   13.500000\n",
       "AgeAtBL_Max 90.000000\n",
       "BLYfDx_Max  70.000000"
      ]
     },
     "metadata": {},
     "output_type": "display_data"
    }
   ],
   "source": [
    "t = df  %>% \n",
    "        distinct(ID, .keep_all=T) %>%\n",
    "        summarize_at(vars('AgeAtBL', 'BLYfDx'), list(\n",
    "        m = ~mean(., na.rm = T), \n",
    "        Min = ~min(., na.rm=T),\n",
    "        q1 = ~quantile(.,prob = 0.1, na.rm = T),\n",
    "        q2 = ~median(., na.rm = T), \n",
    "        q3 = ~quantile(.,prob = 0.9, na.rm = T),\n",
    "        Max = ~max(., na.rm=T)))\n",
    "t(t)"
   ]
  },
  {
   "cell_type": "code",
   "execution_count": 88,
   "metadata": {},
   "outputs": [
    {
     "data": {
      "text/html": [
       "<style>\n",
       ".list-inline {list-style: none; margin:0; padding: 0}\n",
       ".list-inline>li {display: inline-block}\n",
       ".list-inline>li:not(:last-child)::after {content: \"\\00b7\"; padding: 0 .5ex}\n",
       "</style>\n",
       "<ol class=list-inline><li>165597</li><li>128</li></ol>\n"
      ],
      "text/latex": [
       "\\begin{enumerate*}\n",
       "\\item 165597\n",
       "\\item 128\n",
       "\\end{enumerate*}\n"
      ],
      "text/markdown": [
       "1. 165597\n",
       "2. 128\n",
       "\n",
       "\n"
      ],
      "text/plain": [
       "[1] 165597    128"
      ]
     },
     "metadata": {},
     "output_type": "display_data"
    },
    {
     "data": {
      "text/html": [
       "<style>\n",
       ".list-inline {list-style: none; margin:0; padding: 0}\n",
       ".list-inline>li {display: inline-block}\n",
       ".list-inline>li:not(:last-child)::after {content: \"\\00b7\"; padding: 0 .5ex}\n",
       "</style>\n",
       "<ol class=list-inline><li>119493</li><li>128</li></ol>\n"
      ],
      "text/latex": [
       "\\begin{enumerate*}\n",
       "\\item 119493\n",
       "\\item 128\n",
       "\\end{enumerate*}\n"
      ],
      "text/markdown": [
       "1. 119493\n",
       "2. 128\n",
       "\n",
       "\n"
      ],
      "text/plain": [
       "[1] 119493    128"
      ]
     },
     "metadata": {},
     "output_type": "display_data"
    }
   ],
   "source": [
    "dim(df)\n",
    "df = df %>%\n",
    "    filter(AgeAtBL > t$AgeAtBL_q1, Age < t$AgeAtBL_q3) %>%\n",
    "    filter((Recruit=='CTR')|((BLYfDx > t$BLYfDx_q1) & (BLYfDx < t$BLYfDx_q3)))\n",
    "dim(df)"
   ]
  },
  {
   "cell_type": "code",
   "execution_count": 89,
   "metadata": {},
   "outputs": [
    {
     "data": {
      "text/plain": [
       "Recruit\n",
       "  CTR    PD \n",
       " 7588 19390 "
      ]
     },
     "metadata": {},
     "output_type": "display_data"
    }
   ],
   "source": [
    "df %>% \n",
    "    distinct(ID, .keep_all=T) %>%\n",
    "    with(table(Recruit))"
   ]
  },
  {
   "cell_type": "code",
   "execution_count": 90,
   "metadata": {},
   "outputs": [
    {
     "data": {
      "text/plain": [
       "Recruit\n",
       " CTR  PD1  PD2  PD3 \n",
       "7588 7658 5805 5927 "
      ]
     },
     "metadata": {},
     "output_type": "display_data"
    }
   ],
   "source": [
    "df = df %>% \n",
    "    mutate(Recruit = case_when(\n",
    "        Recruit=='CTR'~ 'CTR',\n",
    "        DiseaseDuration<3~'PD1',\n",
    "        DiseaseDuration<=6~'PD2',\n",
    "        DiseaseDuration>6~'PD3'\n",
    "    ))\n",
    "df %>% \n",
    "    distinct(ID, .keep_all=T) %>%\n",
    "    with(table(Recruit))"
   ]
  },
  {
   "cell_type": "code",
   "execution_count": 91,
   "metadata": {},
   "outputs": [],
   "source": [
    "# Fill in the levodopa and agonoist parameter\n",
    "df = df %>% \n",
    "    arrange(DaysFromIdx) %>%\n",
    "    group_by(ID) %>%\n",
    "    mutate_at(vars('LEVODOPA', 'AGONIST'), ~na.locf(., na.rm = F)) %>%\n",
    "    ungroup()"
   ]
  },
  {
   "cell_type": "code",
   "execution_count": 92,
   "metadata": {},
   "outputs": [],
   "source": [
    "df$Depression = df$DEPR\n",
    "df$Wearing_Off = df$WearingOff\n",
    "Outcomes = c('UPDRS2', 'PDAQ15_total', 'Dyskinesia', 'Wearing_Off', 'Depression', 'pRBD',\n",
    "             'NMSQ_Awake', 'NMSQ_Sleep', 'NMSQ_Feel', 'NMSQ_Constipation', 'NMSQ_Smell')\n",
    "BinomOutcomes = Outcomes[-c(1,2)]"
   ]
  },
  {
   "cell_type": "code",
   "execution_count": 93,
   "metadata": {},
   "outputs": [],
   "source": [
    "fwrite(df, 'analysisSetFI.csv')"
   ]
  },
  {
   "cell_type": "code",
   "execution_count": 69,
   "metadata": {},
   "outputs": [
    {
     "name": "stdout",
     "output_type": "stream",
     "text": [
      "\n",
      " UPDRS2gaussian()\n",
      " PDAQ15_totalgaussian()\n",
      " Dyskinesiabinomial()\n",
      " Wearing_Offbinomial()\n",
      " Depressionbinomial()\n",
      " pRBDbinomial()\n",
      " NMSQ_Awakebinomial()\n",
      " NMSQ_Sleepbinomial()\n",
      " NMSQ_Feelbinomial()\n",
      " NMSQ_Constipationbinomial()\n",
      " NMSQ_Smellbinomial()"
     ]
    }
   ],
   "source": [
    "# Interaction between disease duration and sex\n",
    "res = data.frame(outcome = rep(Outcomes),\n",
    "                n=NA, o=NA, \n",
    "                beta_slp=NA, se_slp=NA, pval_slp=NA,\n",
    "                beta_main=NA, se_main=NA, pval_main=NA)\n",
    "for (Outcome in Outcomes){\n",
    "    cat('\\n', Outcome)\n",
    "    df[, 'y'] = df[Outcome]\n",
    "    t = df %>% \n",
    "        filter(Recruit!='CTR') %>%\n",
    "        filter(!is.na(y)) %>% \n",
    "        filter(!is.na(Age)) %>% \n",
    "        filter(!is.na(Female)) %>% \n",
    "        arrange(DaysFromIdx) %>% \n",
    "        distinct(ID, .keep_all = T)\n",
    "    Fam = 'gaussian()'\n",
    "    if(Outcome %in% BinomOutcomes){Fam='binomial()'}\n",
    "    cat(Fam)  \n",
    "#     mod = glm(y~Female*DiseaseDuration+Age+I(Age^2)+LEVODOPA+AGONIST, data=t, family = eval(parse(text=Fam)))\n",
    "    mod = glm(y~Female*DiseaseDuration+Age+I(Age^2)+I(DiseaseDuration^2)+LEVODOPA+AGONIST, data=t, family = eval(parse(text=Fam)))\n",
    "    mPD = coef(summary(mod))\n",
    "    res[res$outcome==Outcome, 2:9] = c(nrow(t), sum(t$y), \n",
    "                                       mPD['Female:DiseaseDuration',-3],\n",
    "                                       mPD['Female',-3])\n",
    "} \n",
    "fwrite(res, 'result/FoxInsightPD.csv')"
   ]
  },
  {
   "cell_type": "code",
   "execution_count": 70,
   "metadata": {},
   "outputs": [
    {
     "name": "stdout",
     "output_type": "stream",
     "text": [
      "\n",
      " UPDRS2\n",
      " PDAQ15_totalgaussian()\n",
      " Dyskinesia\n",
      " Wearing_Off\n",
      " Depressionbinomial()\n",
      " pRBDbinomial()\n",
      " NMSQ_Awakebinomial()\n",
      " NMSQ_Sleepbinomial()\n",
      " NMSQ_Feelbinomial()\n",
      " NMSQ_Constipationbinomial()\n",
      " NMSQ_Smellbinomial()"
     ]
    }
   ],
   "source": [
    "# Main effect\n",
    "res = data.frame(outcome = rep(Outcomes),\n",
    "                n=NA, o=NA,\n",
    "                beta_main=NA, se_main=NA, pval_main=NA)\n",
    "for (Outcome in Outcomes){\n",
    "    cat('\\n', Outcome)\n",
    "    df[, 'y'] = df[,Outcome]\n",
    "    t = df %>% \n",
    "    filter(Recruit=='CTR') %>%\n",
    "    filter(!is.na(y)) %>% \n",
    "    filter(!is.na(Age)) %>% \n",
    "    filter(!is.na(Female)) %>% \n",
    "    arrange(DaysFromIdx) %>% \n",
    "    distinct(ID, .keep_all = T)\n",
    "    Fam = 'gaussian()'\n",
    "    if(length(unique(t$y))==2){Fam='binomial()'}\n",
    "    if(nrow(t)<300){next}\n",
    "    cat(Fam)  \n",
    "    mod = glm(y~Female+Age+I(Age^2), data=t, family = eval(parse(text=Fam)))\n",
    "    mPD = coef(summary(mod))\n",
    "    res[res$outcome==Outcome, 2:6] = c(nrow(t), sum(t$y), \n",
    "                                       mPD['Female',-3])\n",
    "} \n",
    "fwrite(res, 'result/FoxInsightCTR.csv')"
   ]
  },
  {
   "cell_type": "markdown",
   "metadata": {},
   "source": [
    "## MetaAnalysis"
   ]
  },
  {
   "cell_type": "code",
   "execution_count": 71,
   "metadata": {},
   "outputs": [],
   "source": [
    "# Create stratified analysis\n",
    "# Interaction between disease duration and sex\n",
    "res = data.frame(outcome = rep(Outcomes, each=3),\n",
    "                 strata = rep(c('PD1', 'PD2', 'PD3'), length(Outcomes)),\n",
    "                n=NA, o=NA, \n",
    "                beta_main=NA, se_main=NA, pval_main=NA)\n",
    "for (Outcome in Outcomes){\n",
    "    df[,'y'] = df[,Outcome]\n",
    "    for (Strata in c('PD1', 'PD2', 'PD3')){\n",
    "        t = df %>% \n",
    "            filter(Recruit==Strata) %>%\n",
    "            filter(!is.na(y)) %>% \n",
    "            filter(!is.na(Age)) %>% \n",
    "            filter(!is.na(Female)) %>% \n",
    "            arrange(DaysFromIdx) %>% \n",
    "            distinct(ID, .keep_all = T)\n",
    "        Fam = 'gaussian()'\n",
    "        if(length(unique(t$y))==2){Fam='binomial()'}\n",
    "        mod = glm(y~Female+Age+I(Age^2)+I(DiseaseDuration^2)+LEVODOPA+AGONIST, data=t, family = eval(parse(text=Fam)))\n",
    "        mPD = coef(summary(mod))\n",
    "        res[(res$outcome==Outcome)&(res$strata==Strata), 3:7] = c(nrow(t), sum(t$y), mPD['Female',-3])        \n",
    "    }\n",
    "}\n",
    "fwrite(res, 'result/FoxInsightPDstrata.csv')"
   ]
  },
  {
   "cell_type": "code",
   "execution_count": 77,
   "metadata": {},
   "outputs": [],
   "source": [
    "mPD = fread('result/FoxInsightPD.csv') %>% mutate(strata='PD_all')\n",
    "mPDstratified = fread('result/FoxInsightPDstrata.csv')\n",
    "mCTR = fread('result/FoxInsightCTR.csv') %>% mutate(strata='CTR')\n",
    "res = bind_rows(mPDstratified, mPD, mCTR) %>%\n",
    "    select(names(mPDstratified)) %>%\n",
    "    rename(beta=beta_main, se=se_main, pval=pval_main) %>%\n",
    "    arrange(outcome, strata)"
   ]
  },
  {
   "cell_type": "code",
   "execution_count": 78,
   "metadata": {},
   "outputs": [],
   "source": [
    "res = res %>% \n",
    "    mutate(strata2 = case_when(\n",
    "        strata=='PD1'~'PD duration 1-3y',\n",
    "        strata=='PD2'~'PD duration 3-6y',\n",
    "        strata=='PD3'~'PD duration > 6y',\n",
    "        TRUE~strata\n",
    "    ))"
   ]
  },
  {
   "cell_type": "code",
   "execution_count": null,
   "metadata": {},
   "outputs": [],
   "source": []
  },
  {
   "cell_type": "code",
   "execution_count": null,
   "metadata": {},
   "outputs": [],
   "source": []
  },
  {
   "cell_type": "code",
   "execution_count": null,
   "metadata": {},
   "outputs": [],
   "source": []
  },
  {
   "cell_type": "code",
   "execution_count": 81,
   "metadata": {},
   "outputs": [
    {
     "name": "stdout",
     "output_type": "stream",
     "text": [
      "[1] \"UPDRS2\"\n",
      "[1] \"PDAQ15_total\"\n",
      "[1] \"Dyskinesia\"\n",
      "[1] \"Wearing_Off\"\n",
      "[1] \"Depression\"\n",
      "[1] \"pRBD\"\n",
      "[1] \"NMSQ_Awake\"\n",
      "[1] \"NMSQ_Sleep\"\n",
      "[1] \"NMSQ_Feel\"\n",
      "[1] \"NMSQ_Constipation\"\n",
      "[1] \"NMSQ_Smell\"\n"
     ]
    },
    {
     "data": {
      "text/html": [
       "<strong>png:</strong> 2"
      ],
      "text/latex": [
       "\\textbf{png:} 2"
      ],
      "text/markdown": [
       "**png:** 2"
      ],
      "text/plain": [
       "png \n",
       "  2 "
      ]
     },
     "metadata": {},
     "output_type": "display_data"
    }
   ],
   "source": [
    "meta = data.frame(outcome = Outcomes,strata = 'Main',\n",
    "                 n=NA, o=NA, beta=NA, se=NA, pval=NA, I2=NA, QEp=NA)\n",
    "\n",
    "figout = sprintf('result/FI_All.png', Outcome)\n",
    "png(figout, width=4000, height=12000, res=300)    \n",
    "par(mfrow=c(6, 2))\n",
    "\n",
    "for (Outcome in Outcomes){\n",
    "  res_m = res %>% filter(outcome==Outcome, !is.na(beta))\n",
    "  print(Outcome)\n",
    "  if(nrow(res_m)>=2){\n",
    "#     figout = sprintf('result/FI_%s.png', Outcome)\n",
    "#     png(figout, width=2000, height=2000, res=300)\n",
    "    op <- par(cex = 1, font=1)\n",
    "    Bmin = min(0, res_m$beta - res_m$se)\n",
    "    Bmax = max(res_m$beta+res_m$se, 0)\n",
    "    Blen = Bmax - Bmin\n",
    "    Xmin = Bmin - 5*Blen\n",
    "    Xmax = Bmax + 3*Blen\n",
    "    \n",
    "    mAll = rma(yi=beta, sei= se, data= res_m, method='REML', slab=strata2)\n",
    "    Allrow = length(res_m$strata)\n",
    "    Mainrow = sum(res_m$strata %in% c('PD_all','CTR'))\n",
    "    Ylab = (Allrow-Mainrow):1 + 1\n",
    "    Xscale = c(Bmin-Blen, Bmin, Bmax, Bmax+Blen, 0)\n",
    "    iLabs = sprintf('%d', res_m$n)\n",
    "    ATRANSF = 'identity'\n",
    "    Fam = 'continuous'\n",
    "    XLAB = '' \n",
    "    if(Outcome %in% BinomOutcomes){\n",
    "        Xscale = c(log(c(1/3, 0.5, 1, 2, 3)), exp(Bmin), exp(Bmax))\n",
    "        iLabs = sprintf('%d / %d', res_m$o, res_m$n-res_m$o)\n",
    "        ATRANSF = 'exp'\n",
    "        Fam = 'binomial'\n",
    "        XLAB='Odds Ratio'\n",
    "    }\n",
    "    if(Mainrow==2){Ylab = c(Ylab, 0, -2)}\n",
    "    if(Mainrow==1){Ylab = c(Ylab, 0)}\n",
    "    forest(mAll, rows = Ylab-1, ylim = c(-4, max(Ylab)+4),\n",
    "           xlim=c(Xmin, Xmax), at=Xscale,\n",
    "           ilab = iLabs,\n",
    "           atransf=eval(parse(text =ATRANSF)),\n",
    "           ilab.xpos = Bmin-1.6*Blen,\n",
    "           addfit=F, \n",
    "           xlab = XLAB,\n",
    "           main = sprintf('Sex differences in %s (%s)', Outcome, Fam),\n",
    "           order=order(factor(res_m$strata, levels=c('PD1', 'PD2', 'PD3', 'PD_all'))))\n",
    "    text(Xmin, max(Ylab)+2.5, bquote(\"Cohort\"), pos=4, cex=.9)\n",
    "    if(Outcome %in% BinomOutcomes){\n",
    "        text(Bmin-2.6*Blen, max(Ylab)+2.5, bquote(\"Case / Control\"), pos=4, cex=.9)\n",
    "    }else{\n",
    "        text(Bmin-2.6*Blen, max(Ylab)+2.5, bquote(\"N\"), pos=4, cex=.9)\n",
    "    }\n",
    "    text(Xmax, max(Ylab)+2.5, bquote(\"Mean [95% C.I.]\"), pos=2, cex=.9)\n",
    "  }\n",
    "  # Add PD meta-analysis results\n",
    "  op <- par(cex = 1, font=2)\n",
    "  res_m = res %>% filter(outcome==Outcome, !is.na(beta)) %>%\n",
    "    filter(strata %in% c('PD_all', 'CTR'))\n",
    "  N_strata = nrow(res_m)\n",
    "  if(N_strata==2){\n",
    "    op <- par(cex = 1, font=4)\n",
    "    mAll = rma(yi=beta, sei= se, data= res_m, method='REML')\n",
    "    meta[meta$outcome==Outcome, 3:9] = \n",
    "      c(sum(res_m$n), sum(res_m$o), mAll$beta, mAll$se, mAll$pval, mAll$I2, mAll$QEp)\n",
    "    text(Xmin, -4, pos=4, cex = .9, sprintf('Q-test for main effects = %.2g', mAll$QEp))\n",
    "    }\n",
    "    op <- par(cex = 1, font=3)\n",
    "    text(Xmin, max(Ylab), pos=4, cex=1, bquote('Visualization of sex differences in stratified PD cohorts'))\n",
    "    \n",
    "    # Main effects annotations\n",
    "    op <- par(cex = .9, font=2)\n",
    "    if(Outcome %in% BinomOutcomes){\n",
    "        # Interaction effct\n",
    "        beta1 = mPD[mPD$outcome==Outcome,'beta_slp']\n",
    "        se1 = mPD[mPD$outcome==Outcome,'se_slp']\n",
    "        p1 = mPD[mPD$outcome==Outcome,'pval_slp']\n",
    "        text(Xmin, max(Ylab)+1, pos=4, cex=1, \n",
    "             sprintf('Interaction effect between Sex & PD duration:\\n OR %.2f [%.2f, %.2f] per year, P = %.2g',\n",
    "                     exp(beta1), exp(beta1-1.96*se1), exp(beta1+1.96*se1), p1))\n",
    "        # Main effect in PD\n",
    "        beta1 = mPD[mPD$outcome==Outcome,'beta_main']\n",
    "        se1 = mPD[mPD$outcome==Outcome,'se_main']\n",
    "        p1 = mPD[mPD$outcome==Outcome,'pval_main']\n",
    "        text(Xmin, 0, pos=4, cex=1, \n",
    "             sprintf('Main effect of Sex in PD: OR %.2f [%.2f, %.2f], P = %.2g',\n",
    "                     exp(beta1), exp(beta1-1.96*se1), exp(beta1+1.96*se1), p1))\n",
    "        # Main effect in CTR\n",
    "        if(Mainrow==2){\n",
    "            beta1 = mCTR[mCTR$outcome==Outcome,'beta_main']\n",
    "            se1 = mCTR[mCTR$outcome==Outcome,'se_main']\n",
    "            p1 = mCTR[mCTR$outcome==Outcome,'pval_main']\n",
    "            text(Xmin, -2, pos=4, cex=1, \n",
    "                 sprintf('Main effect of Sex in CTR: OR %.2f [%.2f, %.2f], P = %.2g',\n",
    "                         exp(beta1), exp(beta1-1.96*se1), exp(beta1+1.96*se1), p1))\n",
    "            }\n",
    "        }else{\n",
    "        # Interaction effct\n",
    "        beta1 = mPD[mPD$outcome==Outcome,'beta_slp']\n",
    "        se1 = mPD[mPD$outcome==Outcome,'se_slp']\n",
    "        p1 = mPD[mPD$outcome==Outcome,'pval_slp']\n",
    "        text(Xmin, max(Ylab)+1, pos=4, cex=1, \n",
    "             sprintf('Interaction effect between Sex & PD duration:\\n %.2f [%.2f, %.2f] per year, P = %.2g',\n",
    "                     beta1, beta1-1.96*se1, beta1+1.96*se1, p1))\n",
    "        # Main effect in PD\n",
    "        beta1 = mPD[mPD$outcome==Outcome,'beta_main']\n",
    "        se1 = mPD[mPD$outcome==Outcome,'se_main']\n",
    "        p1 = mPD[mPD$outcome==Outcome,'pval_main']\n",
    "        text(Xmin, 0, pos=4, cex=1, \n",
    "             sprintf('Main effect of Sex in PD: OR %.2f [%.2f, %.2f], P = %.2g',\n",
    "                     beta1, beta1-1.96*se1, beta1+1.96*se1, p1))\n",
    "        # Main effect in CTR\n",
    "        if(Mainrow==2){\n",
    "            beta1 = mCTR[mCTR$outcome==Outcome,'beta_main']\n",
    "            se1 = mCTR[mCTR$outcome==Outcome,'se_main']\n",
    "            p1 = mCTR[mCTR$outcome==Outcome,'pval_main']\n",
    "            if(is.na(beta1))\n",
    "            text(Xmin, -2, pos=4, cex=1, \n",
    "                 sprintf('Main effect of Sex in CTR: OR %.2f [%.2f, %.2f], P = %.2g',\n",
    "                         beta1, beta1-1.96*se1, beta1+1.96*se1, p1))\n",
    "        } \n",
    "    }\n",
    "#     dev.off()\n",
    "}\n",
    "dev.off()"
   ]
  },
  {
   "cell_type": "code",
   "execution_count": 83,
   "metadata": {},
   "outputs": [
    {
     "name": "stderr",
     "output_type": "stream",
     "text": [
      "Warning message:\n",
      "\"Column `outcome` joining character vector and factor, coercing into character vector\"\n"
     ]
    }
   ],
   "source": [
    "left_join(mPD, mCTR, by = 'outcome', suffix = c(\".PD\", \".CTR\")) %>% \n",
    "    left_join(., meta[,c('outcome', 'beta', 'se', 'pval', 'QEp')], \n",
    "              by = 'outcome',\n",
    "              suffix = c(\"\", \".Meta\")) %>%\n",
    "    select(-(starts_with('strata'))) %>%\n",
    "    fwrite(., 'result/_tableFoxInsight.csv')"
   ]
  },
  {
   "cell_type": "markdown",
   "metadata": {},
   "source": [
    "# Table 1\n",
    "\n",
    "Follow-up should be descirbed in ranges"
   ]
  },
  {
   "cell_type": "code",
   "execution_count": 99,
   "metadata": {},
   "outputs": [
    {
     "data": {
      "text/html": [
       "<style>\n",
       ".list-inline {list-style: none; margin:0; padding: 0}\n",
       ".list-inline>li {display: inline-block}\n",
       ".list-inline>li:not(:last-child)::after {content: \"\\00b7\"; padding: 0 .5ex}\n",
       "</style>\n",
       "<ol class=list-inline><li>'STUDY_NAME'</li><li>'ID'</li><li>'AGONIST'</li><li>'Race'</li><li>'BMI'</li><li>'Wearing_Off'</li><li>'Dyskinesia'</li><li>'Depression'</li><li>'pRBD'</li><li>'UPDRS2'</li><li>'Age'</li><li>'DiseaseDuration'</li><li>'LEVODOPA'</li><li>'Female'</li><li>'AgeAtBL'</li><li>'WearingOff'</li><li>'EduLevel'</li></ol>\n"
      ],
      "text/latex": [
       "\\begin{enumerate*}\n",
       "\\item 'STUDY\\_NAME'\n",
       "\\item 'ID'\n",
       "\\item 'AGONIST'\n",
       "\\item 'Race'\n",
       "\\item 'BMI'\n",
       "\\item 'Wearing\\_Off'\n",
       "\\item 'Dyskinesia'\n",
       "\\item 'Depression'\n",
       "\\item 'pRBD'\n",
       "\\item 'UPDRS2'\n",
       "\\item 'Age'\n",
       "\\item 'DiseaseDuration'\n",
       "\\item 'LEVODOPA'\n",
       "\\item 'Female'\n",
       "\\item 'AgeAtBL'\n",
       "\\item 'WearingOff'\n",
       "\\item 'EduLevel'\n",
       "\\end{enumerate*}\n"
      ],
      "text/markdown": [
       "1. 'STUDY_NAME'\n",
       "2. 'ID'\n",
       "3. 'AGONIST'\n",
       "4. 'Race'\n",
       "5. 'BMI'\n",
       "6. 'Wearing_Off'\n",
       "7. 'Dyskinesia'\n",
       "8. 'Depression'\n",
       "9. 'pRBD'\n",
       "10. 'UPDRS2'\n",
       "11. 'Age'\n",
       "12. 'DiseaseDuration'\n",
       "13. 'LEVODOPA'\n",
       "14. 'Female'\n",
       "15. 'AgeAtBL'\n",
       "16. 'WearingOff'\n",
       "17. 'EduLevel'\n",
       "\n",
       "\n"
      ],
      "text/plain": [
       " [1] \"STUDY_NAME\"      \"ID\"              \"AGONIST\"         \"Race\"           \n",
       " [5] \"BMI\"             \"Wearing_Off\"     \"Dyskinesia\"      \"Depression\"     \n",
       " [9] \"pRBD\"            \"UPDRS2\"          \"Age\"             \"DiseaseDuration\"\n",
       "[13] \"LEVODOPA\"        \"Female\"          \"AgeAtBL\"         \"WearingOff\"     \n",
       "[17] \"EduLevel\"       "
      ]
     },
     "metadata": {},
     "output_type": "display_data"
    }
   ],
   "source": [
    "df = fread('analysisSetFI.csv') %>% \n",
    "    mutate(STUDY_NAME = case_when(\n",
    "        Recruit=='CTR'~paste('Fox Insight', Recruit),\n",
    "        Recruit %in% c('PD1', 'PD2', 'PD3') ~ 'Fox Insight PD'))\n",
    "db = db %>% \n",
    "    mutate(LEVODOPA = DOPA,\n",
    "          Female = FEMALE,\n",
    "          AgeAtBL = AGEatBL,\n",
    "          WearingOff = Wearing_Off,\n",
    "          Race = if_else(Race=='', NA_character_, Race),\n",
    "          EduLevel = case_when(\n",
    "          YEARSEDUC<9 ~'<9',\n",
    "          YEARSEDUC<=12 ~ '9-12',\n",
    "          YEARSEDUC<=16 ~ '13-16',\n",
    "          YEARSEDUC>16 ~ '>16'))\n",
    "intersect(names(db), names(df))"
   ]
  },
  {
   "cell_type": "code",
   "execution_count": 100,
   "metadata": {},
   "outputs": [],
   "source": [
    "# Variable name conversion\n",
    "catVars = c('Female', 'LEVODOPA', 'AGONIST', 'WearingOff', 'Dyskinesia')\n",
    "VarAll = c('Female', 'AgeAtBL', 'Race', 'EduLevel', 'DiseaseDuration', 'LEVODOPA', 'AGONIST', 'WearingOff', 'Dyskinesia')"
   ]
  },
  {
   "cell_type": "code",
   "execution_count": 101,
   "metadata": {},
   "outputs": [],
   "source": [
    "# Get the replaced obs.\n",
    "dfb = df %>% \n",
    "    arrange(DaysFromIdx) %>%\n",
    "    group_by(ID) %>%\n",
    "    filter(!is.na(LEVODOPA) | !is.na(AGONIST) | Recruit=='CTR') %>%\n",
    "    mutate_at(vars(VarAll), ~na.locf(., na.rm = F)) %>%\n",
    "    distinct(ID, .keep_all = T)"
   ]
  },
  {
   "cell_type": "code",
   "execution_count": 103,
   "metadata": {},
   "outputs": [
    {
     "name": "stderr",
     "output_type": "stream",
     "text": [
      "Note: Using an external vector in selections is ambiguous.\n",
      "\u001b[34mi\u001b[39m Use `all_of(catVars)` instead of `catVars` to silence this message.\n",
      "\u001b[34mi\u001b[39m See <https://tidyselect.r-lib.org/reference/faq-external-vector.html>.\n",
      "\u001b[90mThis message is displayed once per session.\u001b[39m\n",
      "\n"
     ]
    }
   ],
   "source": [
    "Table1 = suppressWarnings(\n",
    "    bind_rows(dfb, db) %>% \n",
    "      mutate_at(vars(catVars), as.factor) %>% \n",
    "      CreateTableOne(vars=VarAll, \n",
    "                          strata = 'STUDY_NAME',\n",
    "                          test=F) \n",
    ") \n",
    "print(Table1, quote = FALSE, noSpaces = TRUE, printToggle = FALSE) %>% write.csv('_Table1.csv')"
   ]
  },
  {
   "cell_type": "code",
   "execution_count": 104,
   "metadata": {},
   "outputs": [
    {
     "data": {
      "text/html": [
       "<table>\n",
       "<caption>A tibble: 12 × 6</caption>\n",
       "<thead>\n",
       "\t<tr><th scope=col>STUDY_NAME</th><th scope=col>sum</th><th scope=col>m</th><th scope=col>q1</th><th scope=col>q2</th><th scope=col>q3</th></tr>\n",
       "\t<tr><th scope=col>&lt;chr&gt;</th><th scope=col>&lt;dbl&gt;</th><th scope=col>&lt;dbl&gt;</th><th scope=col>&lt;dbl&gt;</th><th scope=col>&lt;dbl&gt;</th><th scope=col>&lt;dbl&gt;</th></tr>\n",
       "</thead>\n",
       "<tbody>\n",
       "\t<tr><td>DATATOP         </td><td> 902.0233</td><td>1.133195</td><td>0.8049281</td><td>1.133470</td><td>1.530459</td></tr>\n",
       "\t<tr><td>DIGPD           </td><td> 950.5462</td><td>2.715846</td><td>1.9938398</td><td>3.003422</td><td>3.999316</td></tr>\n",
       "\t<tr><td>HBS             </td><td> 888.2108</td><td>1.842761</td><td>1.5373032</td><td>1.935661</td><td>2.141684</td></tr>\n",
       "\t<tr><td>NET_PD_LS1      </td><td>6809.6947</td><td>3.993956</td><td>2.9705681</td><td>3.972621</td><td>4.974675</td></tr>\n",
       "\t<tr><td>PARKFIT         </td><td> 932.0000</td><td>2.000000</td><td>2.0000000</td><td>2.000000</td><td>2.000000</td></tr>\n",
       "\t<tr><td>PARKWEST        </td><td> 849.3114</td><td>4.692328</td><td>4.9472964</td><td>5.002053</td><td>5.078713</td></tr>\n",
       "\t<tr><td>PDBP            </td><td>1381.5113</td><td>2.842616</td><td>1.9952088</td><td>3.019849</td><td>3.690623</td></tr>\n",
       "\t<tr><td>PICNICS         </td><td> 409.7769</td><td>3.358827</td><td>2.0622861</td><td>3.471595</td><td>4.514031</td></tr>\n",
       "\t<tr><td>PPMI            </td><td>2572.8214</td><td>6.305935</td><td>5.9575633</td><td>6.997947</td><td>7.177960</td></tr>\n",
       "\t<tr><td>PROPARK         </td><td>1534.7899</td><td>4.693547</td><td>4.8555784</td><td>5.018480</td><td>5.136208</td></tr>\n",
       "\t<tr><td>PreCEPT_PostCEPT</td><td>2633.1636</td><td>6.751702</td><td>6.3867214</td><td>6.919918</td><td>7.374401</td></tr>\n",
       "\t<tr><td>UDALL_PENN      </td><td> 949.4593</td><td>4.074933</td><td>3.0609172</td><td>4.027379</td><td>5.861739</td></tr>\n",
       "</tbody>\n",
       "</table>\n"
      ],
      "text/latex": [
       "A tibble: 12 × 6\n",
       "\\begin{tabular}{llllll}\n",
       " STUDY\\_NAME & sum & m & q1 & q2 & q3\\\\\n",
       " <chr> & <dbl> & <dbl> & <dbl> & <dbl> & <dbl>\\\\\n",
       "\\hline\n",
       "\t DATATOP          &  902.0233 & 1.133195 & 0.8049281 & 1.133470 & 1.530459\\\\\n",
       "\t DIGPD            &  950.5462 & 2.715846 & 1.9938398 & 3.003422 & 3.999316\\\\\n",
       "\t HBS              &  888.2108 & 1.842761 & 1.5373032 & 1.935661 & 2.141684\\\\\n",
       "\t NET\\_PD\\_LS1       & 6809.6947 & 3.993956 & 2.9705681 & 3.972621 & 4.974675\\\\\n",
       "\t PARKFIT          &  932.0000 & 2.000000 & 2.0000000 & 2.000000 & 2.000000\\\\\n",
       "\t PARKWEST         &  849.3114 & 4.692328 & 4.9472964 & 5.002053 & 5.078713\\\\\n",
       "\t PDBP             & 1381.5113 & 2.842616 & 1.9952088 & 3.019849 & 3.690623\\\\\n",
       "\t PICNICS          &  409.7769 & 3.358827 & 2.0622861 & 3.471595 & 4.514031\\\\\n",
       "\t PPMI             & 2572.8214 & 6.305935 & 5.9575633 & 6.997947 & 7.177960\\\\\n",
       "\t PROPARK          & 1534.7899 & 4.693547 & 4.8555784 & 5.018480 & 5.136208\\\\\n",
       "\t PreCEPT\\_PostCEPT & 2633.1636 & 6.751702 & 6.3867214 & 6.919918 & 7.374401\\\\\n",
       "\t UDALL\\_PENN       &  949.4593 & 4.074933 & 3.0609172 & 4.027379 & 5.861739\\\\\n",
       "\\end{tabular}\n"
      ],
      "text/markdown": [
       "\n",
       "A tibble: 12 × 6\n",
       "\n",
       "| STUDY_NAME &lt;chr&gt; | sum &lt;dbl&gt; | m &lt;dbl&gt; | q1 &lt;dbl&gt; | q2 &lt;dbl&gt; | q3 &lt;dbl&gt; |\n",
       "|---|---|---|---|---|---|\n",
       "| DATATOP          |  902.0233 | 1.133195 | 0.8049281 | 1.133470 | 1.530459 |\n",
       "| DIGPD            |  950.5462 | 2.715846 | 1.9938398 | 3.003422 | 3.999316 |\n",
       "| HBS              |  888.2108 | 1.842761 | 1.5373032 | 1.935661 | 2.141684 |\n",
       "| NET_PD_LS1       | 6809.6947 | 3.993956 | 2.9705681 | 3.972621 | 4.974675 |\n",
       "| PARKFIT          |  932.0000 | 2.000000 | 2.0000000 | 2.000000 | 2.000000 |\n",
       "| PARKWEST         |  849.3114 | 4.692328 | 4.9472964 | 5.002053 | 5.078713 |\n",
       "| PDBP             | 1381.5113 | 2.842616 | 1.9952088 | 3.019849 | 3.690623 |\n",
       "| PICNICS          |  409.7769 | 3.358827 | 2.0622861 | 3.471595 | 4.514031 |\n",
       "| PPMI             | 2572.8214 | 6.305935 | 5.9575633 | 6.997947 | 7.177960 |\n",
       "| PROPARK          | 1534.7899 | 4.693547 | 4.8555784 | 5.018480 | 5.136208 |\n",
       "| PreCEPT_PostCEPT | 2633.1636 | 6.751702 | 6.3867214 | 6.919918 | 7.374401 |\n",
       "| UDALL_PENN       |  949.4593 | 4.074933 | 3.0609172 | 4.027379 | 5.861739 |\n",
       "\n"
      ],
      "text/plain": [
       "   STUDY_NAME       sum       m        q1        q2       q3      \n",
       "1  DATATOP           902.0233 1.133195 0.8049281 1.133470 1.530459\n",
       "2  DIGPD             950.5462 2.715846 1.9938398 3.003422 3.999316\n",
       "3  HBS               888.2108 1.842761 1.5373032 1.935661 2.141684\n",
       "4  NET_PD_LS1       6809.6947 3.993956 2.9705681 3.972621 4.974675\n",
       "5  PARKFIT           932.0000 2.000000 2.0000000 2.000000 2.000000\n",
       "6  PARKWEST          849.3114 4.692328 4.9472964 5.002053 5.078713\n",
       "7  PDBP             1381.5113 2.842616 1.9952088 3.019849 3.690623\n",
       "8  PICNICS           409.7769 3.358827 2.0622861 3.471595 4.514031\n",
       "9  PPMI             2572.8214 6.305935 5.9575633 6.997947 7.177960\n",
       "10 PROPARK          1534.7899 4.693547 4.8555784 5.018480 5.136208\n",
       "11 PreCEPT_PostCEPT 2633.1636 6.751702 6.3867214 6.919918 7.374401\n",
       "12 UDALL_PENN        949.4593 4.074933 3.0609172 4.027379 5.861739"
      ]
     },
     "metadata": {},
     "output_type": "display_data"
    }
   ],
   "source": [
    "db %>% group_by(STUDY_NAME) %>% summarize_at(vars('FUY'), \n",
    "                                   list(sum = ~sum(., na.rm = T), \n",
    "                                        m = ~mean(., na.rm = T), \n",
    "                                        q1 = ~quantile(.,prob = 0.25, na.rm = T),\n",
    "                                        q2 = ~median(., na.rm = T), \n",
    "                                        q3 = ~quantile(.,prob = 0.75, na.rm = T)))"
   ]
  },
  {
   "cell_type": "code",
   "execution_count": 105,
   "metadata": {},
   "outputs": [
    {
     "data": {
      "text/html": [
       "<table>\n",
       "<caption>A data.frame: 1 × 5</caption>\n",
       "<thead>\n",
       "\t<tr><th scope=col>sum</th><th scope=col>m</th><th scope=col>q1</th><th scope=col>q2</th><th scope=col>q3</th></tr>\n",
       "\t<tr><th scope=col>&lt;dbl&gt;</th><th scope=col>&lt;dbl&gt;</th><th scope=col>&lt;dbl&gt;</th><th scope=col>&lt;dbl&gt;</th><th scope=col>&lt;dbl&gt;</th></tr>\n",
       "</thead>\n",
       "<tbody>\n",
       "\t<tr><td>20813.31</td><td>3.500388</td><td>1.954825</td><td>3.081451</td><td>4.998631</td></tr>\n",
       "</tbody>\n",
       "</table>\n"
      ],
      "text/latex": [
       "A data.frame: 1 × 5\n",
       "\\begin{tabular}{lllll}\n",
       " sum & m & q1 & q2 & q3\\\\\n",
       " <dbl> & <dbl> & <dbl> & <dbl> & <dbl>\\\\\n",
       "\\hline\n",
       "\t 20813.31 & 3.500388 & 1.954825 & 3.081451 & 4.998631\\\\\n",
       "\\end{tabular}\n"
      ],
      "text/markdown": [
       "\n",
       "A data.frame: 1 × 5\n",
       "\n",
       "| sum &lt;dbl&gt; | m &lt;dbl&gt; | q1 &lt;dbl&gt; | q2 &lt;dbl&gt; | q3 &lt;dbl&gt; |\n",
       "|---|---|---|---|---|\n",
       "| 20813.31 | 3.500388 | 1.954825 | 3.081451 | 4.998631 |\n",
       "\n"
      ],
      "text/plain": [
       "  sum      m        q1       q2       q3      \n",
       "1 20813.31 3.500388 1.954825 3.081451 4.998631"
      ]
     },
     "metadata": {},
     "output_type": "display_data"
    }
   ],
   "source": [
    "db %>% \n",
    "summarize_at(vars('FUY'), \n",
    "                                   list(sum = ~sum(., na.rm = T), \n",
    "                                        m = ~mean(., na.rm = T), \n",
    "                                        q1 = ~quantile(.,prob = 0.25, na.rm = T),\n",
    "                                        q2 = ~median(., na.rm = T), \n",
    "                                        q3 = ~quantile(.,prob = 0.75, na.rm = T)))"
   ]
  },
  {
   "cell_type": "markdown",
   "metadata": {},
   "source": [
    "# Supplementals"
   ]
  },
  {
   "cell_type": "code",
   "execution_count": 107,
   "metadata": {},
   "outputs": [],
   "source": [
    "# Supplemental Table2\n",
    "models = c('BL', 'MIX', 'Surv')\n",
    "models_print = c('Baseline analysis', 'Progression rate analysis', 'Survival analysis')\n",
    "file_names = \n",
    "d = lapply(models, function(x){\n",
    "        fread(sprintf('result/cohortLevel%s.csv', x)) %>% \n",
    "        mutate(ANALYSIS = models_print[which(models==x)]) %>%\n",
    "        mutate(MODEL = sub('DOPA', 'LEVODOPA', COVS)) %>%\n",
    "        select(STUDY, ANALYSIS, OUTCOME, MODEL) %>%\n",
    "        filter(MODEL!='')\n",
    "    }) %>% bind_rows()"
   ]
  },
  {
   "cell_type": "code",
   "execution_count": 108,
   "metadata": {},
   "outputs": [],
   "source": [
    "fwrite(d, 'result/SupT_models.csv')"
   ]
  },
  {
   "cell_type": "markdown",
   "metadata": {},
   "source": [
    "### Further adjustment for dyskinesia-sex associations"
   ]
  },
  {
   "cell_type": "code",
   "execution_count": 109,
   "metadata": {},
   "outputs": [],
   "source": [
    "d = fread('analysisSet.csv') %>% data.frame"
   ]
  },
  {
   "cell_type": "code",
   "execution_count": 110,
   "metadata": {},
   "outputs": [
    {
     "data": {
      "text/plain": [
       "                    Stratified by STRATA\n",
       "                     NET_PD_LS1 0    NET_PD_LS1 1    PDBP 0         \n",
       "  n                    1078             603             244         \n",
       "  LED (mean (SD))    397.94 (258.06) 360.54 (220.92) 623.28 (378.26)\n",
       "  LDD (mean (SD))    244.65 (280.21) 214.29 (243.92) 404.76 (333.18)\n",
       "  WGTBL (mean (SD))   88.55 (15.19)   70.89 (16.16)   87.65 (15.83) \n",
       "  HTBL (mean (SD))   177.15 (7.71)   162.72 (6.97)   177.03 (7.22)  \n",
       "  LDD_WT (mean (SD))   2.85 (3.37)     3.12 (3.57)     4.75 (4.17)  \n",
       "                    Stratified by STRATA\n",
       "                     PDBP 1          p      test\n",
       "  n                     166                     \n",
       "  LED (mean (SD))    622.35 (573.27) <0.001     \n",
       "  LDD (mean (SD))    346.80 (363.85) <0.001     \n",
       "  WGTBL (mean (SD))   69.89 (15.78)  <0.001     \n",
       "  HTBL (mean (SD))   163.02 (7.00)   <0.001     \n",
       "  LDD_WT (mean (SD))   5.24 (5.90)   <0.001     "
      ]
     },
     "metadata": {},
     "output_type": "display_data"
    }
   ],
   "source": [
    "d %>% filter(TSTART==0) %>%\n",
    "    filter(STUDY_NAME %in% c('NET_PD_LS1', 'PDBP')) %>%\n",
    "    filter(WGTBL>0) %>%\n",
    "    mutate(STRATA = paste(STUDY_NAME, FEMALE),\n",
    "           LDD_WT = LDD/WGTBL) %>%\n",
    "    CreateTableOne(vars=c('LED', 'LDD', 'WGTBL', 'HTBL', 'LDD_WT'), strata = 'STRATA', data = .)"
   ]
  },
  {
   "cell_type": "code",
   "execution_count": 113,
   "metadata": {},
   "outputs": [
    {
     "name": "stdout",
     "output_type": "stream",
     "text": [
      "\n",
      " Dyskinesia done for PPMI , NET_PD_LS1 , PDBP , \n",
      " Dyskinesia done for PPMI , NET_PD_LS1 , PDBP , \n",
      " Dyskinesia done for PPMI , NET_PD_LS1 , PDBP , \n",
      " Dyskinesia done for PPMI , NET_PD_LS1 , PDBP , \n",
      " Dyskinesia done for PPMI , NET_PD_LS1 , PDBP , \n",
      " Dyskinesia done for PPMI , NET_PD_LS1 , PDBP , "
     ]
    }
   ],
   "source": [
    "# Analysis\n",
    "baseCOVs = c('FEMALE', 'Age', 'DiseaseDuration', 'DOPA', 'AGONIST')\n",
    "newCOVs = c('base', 'BMI', 'WGTBL', 'LDD', 'LED', 'LDDperWGT')\n",
    "# baseCOVs = c('FEMALE', 'Age', 'DiseaseDuration', 'DOPA', 'AGONIST', 'LDD')\n",
    "# newCOVs = c('base', 'BMI', 'WGTBL')\n",
    "d_new = d %>% filter(complete.cases(.[c('BMI', 'WGTBL', 'LDD', 'LED')])) %>%\n",
    "    mutate(LDDperWGT = LDD/WGTBL)\n",
    "DF = data.frame(Adjusted=newCOVs, Total_N=NA, Total_E=NA, BETA=NA, SE=NA, P=NA, I2=NA, QEp=NA)\n",
    "for(addCOV in newCOVs){\n",
    "    COVs = c(baseCOVs, addCOV)\n",
    "    if(addCOV=='base'){COVs=baseCOVs}\n",
    "    result = lapply('Dyskinesia', function(x){coxAnalysis(d_new, x, COVs)})\n",
    "    result = suppressWarnings(bind_rows(result))\n",
    "    df_i = result %>% filter(!is.na(BETA))\n",
    "    k3 = rma(yi=BETA, sei= SE, data=df_i, method = \"REML\", slab=STUDY)\n",
    "    DF[DF$Adjusted==addCOV, 2:8]=c(sum(df_i$E), sum(df_i$N), k3$beta, k3$se, k3$pval, k3$I2, k3$QEp)\n",
    "}"
   ]
  },
  {
   "cell_type": "code",
   "execution_count": 114,
   "metadata": {},
   "outputs": [],
   "source": [
    "fwrite(DF, 'result/_SupT_adhoc_dyskinesia.csv')"
   ]
  },
  {
   "cell_type": "code",
   "execution_count": 115,
   "metadata": {},
   "outputs": [
    {
     "name": "stdout",
     "output_type": "stream",
     "text": [
      "factor(0)\n",
      "12 Levels: DATATOP DIGPD HBS NET_PD_LS1 PARKFIT PARKWEST PDBP PICNICS ... UDALL_PENN\n"
     ]
    }
   ],
   "source": [
    "# Forest plot\n",
    "df_i = result %>% filter(!is.na(BETA)) %>% filter(grepl('WGTBL', COVS)) \n",
    "OUTCOMEi='Dyskinesia'\n",
    "n_all = length(df_i$STUDY)\n",
    "print(df_i$STUDY, collapse=',')\n",
    "n_denovo = length(intersect(df_i$STUDY, DENOVOs))\n",
    "if(n_all>1){\n",
    "    figout = sprintf('result/%sSurv_supp_Weight.png', OUTCOMEi)\n",
    "#     png(figout, width=1440, height=1440, res=216)\n",
    "    if(n_denovo>1){\n",
    "        k1 = rma(yi=BETA, sei= SE, data= df_i %>% filter(STUDY %in% DENOVOs), method = \"REML\")\n",
    "    }else{k1=NULL}\n",
    "    if(n_all>n_denovo){\n",
    "        k2 = rma(yi=BETA, sei= SE, data=df_i %>% filter(!(STUDY %in% DENOVOs)), method = \"REML\", slab=STUDY)\n",
    "    }else{k2=NULL}\n",
    "    k3 = rma(yi=BETA, sei= SE, data=df_i, method = \"REML\", slab=STUDY)\n",
    "    Ylab = c(n_all + 6 - c(1:n_denovo, (n_denovo+4):(n_all+3)))\n",
    "    if(n_denovo==0){Ylab = c(n_all + 6 - (n_denovo+4):(n_all+3))}\n",
    "    \n",
    "    op <- par(cex = 1, font=1)\n",
    "    forest(k3, cex=.9, rows = Ylab, ylim = c(-1, max(Ylab) + 4),\n",
    "         xlim=c(-5, 3), at=log(c(0.25, 0.5, 1, 2, 3, 4)),\n",
    "         ilab = sprintf('%d / %d', df_i$E, df_i$N),\n",
    "         ilab.xpos = -2,\n",
    "         atransf=exp,\n",
    "         mlab=sprintf('Meta-analysis for all \\n(P = %.2g, I_sq = %.1f%%, Q-test = %.2g)', \n",
    "                      k3$pval, k3$I2, k3$QEp), \n",
    "         addfit=T, xlab = 'Hazard Ratio',\n",
    "         main = paste(OUTCOMEi, ': sex differences in survival\\n(reference - Male)'),\n",
    "         order=order(factor(df_i$STUDY, levels=STUDYs)))\n",
    "    text(-5, max(Ylab)+2.5, bquote(\"Cohort\"), pos=4, cex=.9)\n",
    "    text(-2.6, max(Ylab)+2.5, bquote(\"Event / N\"), pos=4, cex=.8)\n",
    "    text(3, max(Ylab)+2.5, bquote(\"HR [95% C.I.]\"), pos=2, cex=.9)\n",
    "    op <- par(cex=.8, font=4)\n",
    "    if(n_denovo>0){text(-5, max(Ylab)+1, bquote(\"de novo Cohorts\"), pos=4)}\n",
    "    text(-5,  n_all + 2.8 - n_denovo, \"Other Cohorts\", pos=4)\n",
    "    op <- par(cex=0.8, font=3)\n",
    "    if(n_denovo>1){\n",
    "        addpoly(k1, atransf=exp, row= n_all + 4.8 - n_denovo, col=\"grey\",\n",
    "                mlab = sprintf('Meta-analysis for de novo cohorts \\n(P = %.2g, I_sq = %.1f%%, Q-test = %.2g)', \n",
    "                               k1$pval, k1$I2, k1$QEp))\n",
    "    }\n",
    "    if((n_all - n_denovo)>1){\n",
    "    addpoly(k2, atransf=exp, row= 1.8, col=\"grey\",\n",
    "            mlab = sprintf('Meta-analysis for the other cohorts \\n(P = %.2g, I_sq = %.1f%%, Q-test = %.2g)', \n",
    "                           k2$pval, k2$I2, k2$QEp))\n",
    "    }\n",
    "    op <- par(cex=1, font=1)\n",
    "#     dev.off()\n",
    "}"
   ]
  },
  {
   "cell_type": "markdown",
   "metadata": {},
   "source": [
    "### Cognition scale further adjusting for years of education"
   ]
  },
  {
   "cell_type": "code",
   "execution_count": 117,
   "metadata": {},
   "outputs": [
    {
     "name": "stdout",
     "output_type": "stream",
     "text": [
      "\n",
      " Cognitive_Impairment done for PPMI , PreCEPT_PostCEPT , PARKWEST , DATATOP , PICNICS , NET_PD_LS1 , PDBP , HBS , PROPARK , UDALL_PENN , "
     ]
    },
    {
     "data": {
      "text/html": [
       "<strong>png:</strong> 2"
      ],
      "text/latex": [
       "\\textbf{png:} 2"
      ],
      "text/markdown": [
       "**png:** 2"
      ],
      "text/plain": [
       "png \n",
       "  2 "
      ]
     },
     "metadata": {},
     "output_type": "display_data"
    }
   ],
   "source": [
    "# YEARSEDUC for cognition\n",
    "COVs = c('FEMALE', 'Age', 'DiseaseDuration', 'DOPA', 'AGONIST', 'YEARSEDUC')\n",
    "result = lapply('Cognitive_Impairment', function(x){coxAnalysis(d, x, COVs)})\n",
    "result = suppressWarnings(bind_rows(result))\n",
    "\n",
    "# Forest plot\n",
    "df_i = result %>% filter(!is.na(BETA)) %>% filter(grepl('YEARSEDUC', COVS))\n",
    "OUTCOMEi='Cognitive_Impairment'\n",
    "n_all = length(df_i$STUDY)\n",
    "n_denovo = length(intersect(df_i$STUDY, DENOVOs))\n",
    "if(n_all>1){\n",
    "figout = sprintf('result/%sSurv_supp.png', OUTCOMEi)\n",
    "png(figout, width=1440, height=1440, res=216)\n",
    "if(n_denovo>1){\n",
    "k1 = rma(yi=BETA, sei= SE, data= df_i %>% filter(STUDY %in% DENOVOs), method = \"REML\")\n",
    "}else{k1=NULL}\n",
    "if(n_all>n_denovo){\n",
    "k2 = rma(yi=BETA, sei= SE, data=df_i %>% filter(!(STUDY %in% DENOVOs)), method = \"REML\", slab=STUDY)\n",
    "}else{k2=NULL}\n",
    "k3 = rma(yi=BETA, sei= SE, data=df_i, method = \"REML\", slab=STUDY)\n",
    "Ylab = c(n_all + 6 - c(1:n_denovo, (n_denovo+4):(n_all+3)))\n",
    "if(n_denovo==0){Ylab = c(n_all + 6 - (n_denovo+4):(n_all+3))}\n",
    "op <- par(cex = 1, font=1)\n",
    "forest(k3, cex=.9, rows = Ylab, ylim = c(-1, max(Ylab) + 4),\n",
    "     xlim=c(-5, 3), at=log(c(0.25, 0.5, 1, 2, 3, 4)),\n",
    "     ilab = sprintf('%d / %d', df_i$E, df_i$N),\n",
    "     ilab.xpos = -2,\n",
    "     atransf=exp,\n",
    "     mlab=sprintf('Meta-analysis for all \\n(P = %.2g, I_sq = %.1f%%, Q-test = %.2g)', \n",
    "                  k3$pval, k3$I2, k3$QEp), \n",
    "     addfit=T, xlab = 'Hazard Ratio',\n",
    "     main = paste(OUTCOMEi, ': sex differences in survival\\n(reference - Male)'),\n",
    "     order=order(factor(df_i$STUDY, levels=STUDYs)))\n",
    "text(-5, max(Ylab)+2.5, bquote(\"Cohort\"), pos=4, cex=.9)\n",
    "text(-2.6, max(Ylab)+2.5, bquote(\"Event / N\"), pos=4, cex=.8)\n",
    "text(3, max(Ylab)+2.5, bquote(\"HR [95% C.I.]\"), pos=2, cex=.9)\n",
    "op <- par(cex=.8, font=4)\n",
    "if(n_denovo>0){text(-5, max(Ylab)+1, bquote(\"de novo Cohorts\"), pos=4)}\n",
    "text(-5,  n_all + 2.8 - n_denovo, \"Other Cohorts\", pos=4)\n",
    "op <- par(cex=0.8, font=3)\n",
    "if(n_denovo>1){\n",
    "addpoly(k1, atransf=exp, row= n_all + 4.8 - n_denovo, col=\"grey\",\n",
    "        mlab = sprintf('Meta-analysis for de novo cohorts \\n(P = %.2g, I_sq = %.1f%%, Q-test = %.2g)', \n",
    "                       k1$pval, k1$I2, k1$QEp))\n",
    "}\n",
    "if((n_all - n_denovo)>1){\n",
    "addpoly(k2, atransf=exp, row= 1.8, col=\"grey\",\n",
    "        mlab = sprintf('Meta-analysis for the other cohorts \\n(P = %.2g, I_sq = %.1f%%, Q-test = %.2g)', \n",
    "                       k2$pval, k2$I2, k2$QEp))\n",
    "}\n",
    "op <- par(cex=1, font=1)\n",
    "}\n",
    "dev.off()"
   ]
  },
  {
   "cell_type": "code",
   "execution_count": null,
   "metadata": {},
   "outputs": [],
   "source": []
  },
  {
   "cell_type": "code",
   "execution_count": null,
   "metadata": {},
   "outputs": [],
   "source": []
  }
 ],
 "metadata": {
  "kernelspec": {
   "display_name": "R/3.6",
   "language": "R",
   "name": "ir36"
  },
  "language_info": {
   "codemirror_mode": "r",
   "file_extension": ".r",
   "mimetype": "text/x-r-source",
   "name": "R",
   "pygments_lexer": "r",
   "version": "3.6.3"
  }
 },
 "nbformat": 4,
 "nbformat_minor": 4
}
